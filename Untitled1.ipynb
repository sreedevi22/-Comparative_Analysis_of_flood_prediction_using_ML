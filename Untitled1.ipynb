{
 "cells": [
  {
   "cell_type": "code",
   "execution_count": 1,
   "id": "8d4e1963",
   "metadata": {},
   "outputs": [
    {
     "name": "stdout",
     "output_type": "stream",
     "text": [
      "['.ipynb_checkpoints', 'download.png', 'Flood_Prediction.ipynb', 'kerala.csv', 'LICENSE']\n"
     ]
    }
   ],
   "source": [
    "# It will list the files in the input directory.\n",
    "import os\n",
    "print(os.listdir(r\"C:\\Users\\dines\\PycharmProjects\\FPUML\\venv\\FloodPrediction\")) # Name of the project Directory"
   ]
  },
  {
   "cell_type": "code",
   "execution_count": null,
   "id": "06727c28",
   "metadata": {},
   "outputs": [],
   "source": []
  }
 ],
 "metadata": {
  "kernelspec": {
   "display_name": "Python 3 (ipykernel)",
   "language": "python",
   "name": "python3"
  },
  "language_info": {
   "codemirror_mode": {
    "name": "ipython",
    "version": 3
   },
   "file_extension": ".py",
   "mimetype": "text/x-python",
   "name": "python",
   "nbconvert_exporter": "python",
   "pygments_lexer": "ipython3",
   "version": "3.10.2"
  }
 },
 "nbformat": 4,
 "nbformat_minor": 5
}
