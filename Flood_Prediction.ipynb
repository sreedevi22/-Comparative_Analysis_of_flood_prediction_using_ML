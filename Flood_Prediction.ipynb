{
 "cells": [
  {
   "cell_type": "markdown",
   "metadata": {},
   "source": [
    "# Flood Prediction Machine Learning Model "
   ]
  },
  {
   "cell_type": "code",
   "execution_count": 1,
   "metadata": {},
   "outputs": [],
   "source": [
    "# This Machine Learning Model uses 5 Machine Learning Algorithms namely KNN Classification, Logistic Regression[LR], Support \n",
    "# Vector[SVM], Decision Tree[DT] and Random Forest[RF] to get the best possible model to predict the floods using Kerela Rainfall Data."
   ]
  },
  {
   "cell_type": "code",
   "execution_count": 2,
   "metadata": {},
   "outputs": [
    {
     "name": "stdout",
     "output_type": "stream",
     "text": [
      "['.ipynb_checkpoints', 'download.png', 'Flood_Prediction.ipynb', 'kerala.csv', 'LICENSE']\n"
     ]
    }
   ],
   "source": [
    "# It will list the files in the input directory.\n",
    "import os\n",
    "print(os.listdir(r\"C:\\Users\\dines\\PycharmProjects\\FPUML\\venv\\FloodPrediction\")) # Name of the project Directory"
   ]
  },
  {
   "cell_type": "code",
   "execution_count": 3,
   "metadata": {},
   "outputs": [],
   "source": [
    "# Ignoring Warnings.\n",
    "import warnings\n",
    "warnings.filterwarnings('ignore')"
   ]
  },
  {
   "cell_type": "code",
   "execution_count": 4,
   "metadata": {
    "scrolled": true
   },
   "outputs": [
    {
     "data": {
      "text/plain": [
       "'C:\\\\Users\\\\dines\\\\PycharmProjects\\\\FPUML\\\\venv\\\\FloodPrediction'"
      ]
     },
     "execution_count": 4,
     "metadata": {},
     "output_type": "execute_result"
    }
   ],
   "source": [
    "# Directory where our Dataset is stored for processing in the ML Model.\n",
    "os.chdir(r\"C:\\Users\\dines\\PycharmProjects\\FPUML\\venv\\FloodPrediction\") # Path of our Project Folder\n",
    "os.getcwd()"
   ]
  },
  {
   "cell_type": "markdown",
   "metadata": {},
   "source": [
    "## Data Insights"
   ]
  },
  {
   "cell_type": "markdown",
   "metadata": {},
   "source": [
    "#### Importing Required Libraries."
   ]
  },
  {
   "cell_type": "code",
   "execution_count": 5,
   "metadata": {},
   "outputs": [
    {
     "name": "stdout",
     "output_type": "stream",
     "text": [
      "    SUBDIVISION  YEAR   JAN   FEB   MAR    APR    MAY     JUN     JUL     AUG  \\\n",
      "0        KERALA  1901  28.7  44.7  51.6  160.0  174.7   824.6   743.0   357.5   \n",
      "1        KERALA  1902   6.7   2.6  57.3   83.9  134.5   390.9  1205.0   315.8   \n",
      "2        KERALA  1903   3.2  18.6   3.1   83.6  249.7   558.6  1022.5   420.2   \n",
      "3        KERALA  1904  23.7   3.0  32.2   71.5  235.7  1098.2   725.5   351.8   \n",
      "4        KERALA  1905   1.2  22.3   9.4  105.9  263.3   850.2   520.5   293.6   \n",
      "..          ...   ...   ...   ...   ...    ...    ...     ...     ...     ...   \n",
      "113      KERALA  2014   4.6  10.3  17.9   95.7  251.0   454.4   677.8   733.9   \n",
      "114      KERALA  2015   3.1   5.8  50.1  214.1  201.8   563.6   406.0   252.2   \n",
      "115      KERALA  2016   2.4   3.8  35.9  143.0  186.4   522.2   412.3   325.5   \n",
      "116     KERALA   2017   1.9   6.8   8.9   43.6  173.5   498.5   319.6   531.8   \n",
      "117      KERALA  2018  29.1  52.1  48.6  116.4  183.8   625.4  1048.5  1398.9   \n",
      "\n",
      "       SEP    OCT    NOV    DEC   ANNUAL RAINFALL FLOODS  \n",
      "0    197.7  266.9  350.8   48.4            3248.6    YES  \n",
      "1    491.6  358.4  158.3  121.5            3326.6    YES  \n",
      "2    341.8  354.1  157.0   59.0            3271.2    YES  \n",
      "3    222.7  328.1   33.9    3.3            3129.7    YES  \n",
      "4    217.2  383.5   74.4    0.2            2741.6     NO  \n",
      "..     ...    ...    ...    ...               ...    ...  \n",
      "113  298.8  355.5   99.5   47.2            3046.4    YES  \n",
      "114  292.9  308.1  223.6   79.4            2600.6     NO  \n",
      "115  173.2  225.9  125.4   23.6            2176.6     NO  \n",
      "116  209.5  192.4   92.5   38.1            2117.1     NO  \n",
      "117  423.6  356.1  125.4   65.1            4473.0    YES  \n",
      "\n",
      "[118 rows x 16 columns]\n"
     ]
    }
   ],
   "source": [
    "import numpy as np # linear algebra\n",
    "import pandas as pd # data processing, CSV file I/O (e.g. pd.read_csv)\n",
    "data = pd.read_csv('kerala.csv')\n",
    "print(data)"
   ]
  },
  {
   "cell_type": "code",
   "execution_count": 6,
   "metadata": {
    "scrolled": true
   },
   "outputs": [
    {
     "data": {
      "text/html": [
       "<div>\n",
       "<style scoped>\n",
       "    .dataframe tbody tr th:only-of-type {\n",
       "        vertical-align: middle;\n",
       "    }\n",
       "\n",
       "    .dataframe tbody tr th {\n",
       "        vertical-align: top;\n",
       "    }\n",
       "\n",
       "    .dataframe thead th {\n",
       "        text-align: right;\n",
       "    }\n",
       "</style>\n",
       "<table border=\"1\" class=\"dataframe\">\n",
       "  <thead>\n",
       "    <tr style=\"text-align: right;\">\n",
       "      <th></th>\n",
       "      <th>SUBDIVISION</th>\n",
       "      <th>YEAR</th>\n",
       "      <th>JAN</th>\n",
       "      <th>FEB</th>\n",
       "      <th>MAR</th>\n",
       "      <th>APR</th>\n",
       "      <th>MAY</th>\n",
       "      <th>JUN</th>\n",
       "      <th>JUL</th>\n",
       "      <th>AUG</th>\n",
       "      <th>SEP</th>\n",
       "      <th>OCT</th>\n",
       "      <th>NOV</th>\n",
       "      <th>DEC</th>\n",
       "      <th>ANNUAL RAINFALL</th>\n",
       "      <th>FLOODS</th>\n",
       "    </tr>\n",
       "  </thead>\n",
       "  <tbody>\n",
       "    <tr>\n",
       "      <th>0</th>\n",
       "      <td>KERALA</td>\n",
       "      <td>1901</td>\n",
       "      <td>28.7</td>\n",
       "      <td>44.7</td>\n",
       "      <td>51.6</td>\n",
       "      <td>160.0</td>\n",
       "      <td>174.7</td>\n",
       "      <td>824.6</td>\n",
       "      <td>743.0</td>\n",
       "      <td>357.5</td>\n",
       "      <td>197.7</td>\n",
       "      <td>266.9</td>\n",
       "      <td>350.8</td>\n",
       "      <td>48.4</td>\n",
       "      <td>3248.6</td>\n",
       "      <td>YES</td>\n",
       "    </tr>\n",
       "    <tr>\n",
       "      <th>1</th>\n",
       "      <td>KERALA</td>\n",
       "      <td>1902</td>\n",
       "      <td>6.7</td>\n",
       "      <td>2.6</td>\n",
       "      <td>57.3</td>\n",
       "      <td>83.9</td>\n",
       "      <td>134.5</td>\n",
       "      <td>390.9</td>\n",
       "      <td>1205.0</td>\n",
       "      <td>315.8</td>\n",
       "      <td>491.6</td>\n",
       "      <td>358.4</td>\n",
       "      <td>158.3</td>\n",
       "      <td>121.5</td>\n",
       "      <td>3326.6</td>\n",
       "      <td>YES</td>\n",
       "    </tr>\n",
       "    <tr>\n",
       "      <th>2</th>\n",
       "      <td>KERALA</td>\n",
       "      <td>1903</td>\n",
       "      <td>3.2</td>\n",
       "      <td>18.6</td>\n",
       "      <td>3.1</td>\n",
       "      <td>83.6</td>\n",
       "      <td>249.7</td>\n",
       "      <td>558.6</td>\n",
       "      <td>1022.5</td>\n",
       "      <td>420.2</td>\n",
       "      <td>341.8</td>\n",
       "      <td>354.1</td>\n",
       "      <td>157.0</td>\n",
       "      <td>59.0</td>\n",
       "      <td>3271.2</td>\n",
       "      <td>YES</td>\n",
       "    </tr>\n",
       "    <tr>\n",
       "      <th>3</th>\n",
       "      <td>KERALA</td>\n",
       "      <td>1904</td>\n",
       "      <td>23.7</td>\n",
       "      <td>3.0</td>\n",
       "      <td>32.2</td>\n",
       "      <td>71.5</td>\n",
       "      <td>235.7</td>\n",
       "      <td>1098.2</td>\n",
       "      <td>725.5</td>\n",
       "      <td>351.8</td>\n",
       "      <td>222.7</td>\n",
       "      <td>328.1</td>\n",
       "      <td>33.9</td>\n",
       "      <td>3.3</td>\n",
       "      <td>3129.7</td>\n",
       "      <td>YES</td>\n",
       "    </tr>\n",
       "    <tr>\n",
       "      <th>4</th>\n",
       "      <td>KERALA</td>\n",
       "      <td>1905</td>\n",
       "      <td>1.2</td>\n",
       "      <td>22.3</td>\n",
       "      <td>9.4</td>\n",
       "      <td>105.9</td>\n",
       "      <td>263.3</td>\n",
       "      <td>850.2</td>\n",
       "      <td>520.5</td>\n",
       "      <td>293.6</td>\n",
       "      <td>217.2</td>\n",
       "      <td>383.5</td>\n",
       "      <td>74.4</td>\n",
       "      <td>0.2</td>\n",
       "      <td>2741.6</td>\n",
       "      <td>NO</td>\n",
       "    </tr>\n",
       "  </tbody>\n",
       "</table>\n",
       "</div>"
      ],
      "text/plain": [
       "  SUBDIVISION  YEAR   JAN   FEB   MAR    APR    MAY     JUN     JUL    AUG  \\\n",
       "0      KERALA  1901  28.7  44.7  51.6  160.0  174.7   824.6   743.0  357.5   \n",
       "1      KERALA  1902   6.7   2.6  57.3   83.9  134.5   390.9  1205.0  315.8   \n",
       "2      KERALA  1903   3.2  18.6   3.1   83.6  249.7   558.6  1022.5  420.2   \n",
       "3      KERALA  1904  23.7   3.0  32.2   71.5  235.7  1098.2   725.5  351.8   \n",
       "4      KERALA  1905   1.2  22.3   9.4  105.9  263.3   850.2   520.5  293.6   \n",
       "\n",
       "     SEP    OCT    NOV    DEC   ANNUAL RAINFALL FLOODS  \n",
       "0  197.7  266.9  350.8   48.4            3248.6    YES  \n",
       "1  491.6  358.4  158.3  121.5            3326.6    YES  \n",
       "2  341.8  354.1  157.0   59.0            3271.2    YES  \n",
       "3  222.7  328.1   33.9    3.3            3129.7    YES  \n",
       "4  217.2  383.5   74.4    0.2            2741.6     NO  "
      ]
     },
     "execution_count": 6,
     "metadata": {},
     "output_type": "execute_result"
    }
   ],
   "source": [
    "data.head()"
   ]
  },
  {
   "cell_type": "code",
   "execution_count": 7,
   "metadata": {
    "scrolled": true
   },
   "outputs": [
    {
     "data": {
      "text/html": [
       "<div>\n",
       "<style scoped>\n",
       "    .dataframe tbody tr th:only-of-type {\n",
       "        vertical-align: middle;\n",
       "    }\n",
       "\n",
       "    .dataframe tbody tr th {\n",
       "        vertical-align: top;\n",
       "    }\n",
       "\n",
       "    .dataframe thead th {\n",
       "        text-align: right;\n",
       "    }\n",
       "</style>\n",
       "<table border=\"1\" class=\"dataframe\">\n",
       "  <thead>\n",
       "    <tr style=\"text-align: right;\">\n",
       "      <th></th>\n",
       "      <th>SUBDIVISION</th>\n",
       "      <th>YEAR</th>\n",
       "      <th>JAN</th>\n",
       "      <th>FEB</th>\n",
       "      <th>MAR</th>\n",
       "      <th>APR</th>\n",
       "      <th>MAY</th>\n",
       "      <th>JUN</th>\n",
       "      <th>JUL</th>\n",
       "      <th>AUG</th>\n",
       "      <th>SEP</th>\n",
       "      <th>OCT</th>\n",
       "      <th>NOV</th>\n",
       "      <th>DEC</th>\n",
       "      <th>ANNUAL RAINFALL</th>\n",
       "      <th>FLOODS</th>\n",
       "    </tr>\n",
       "  </thead>\n",
       "  <tbody>\n",
       "    <tr>\n",
       "      <th>113</th>\n",
       "      <td>KERALA</td>\n",
       "      <td>2014</td>\n",
       "      <td>4.6</td>\n",
       "      <td>10.3</td>\n",
       "      <td>17.9</td>\n",
       "      <td>95.7</td>\n",
       "      <td>251.0</td>\n",
       "      <td>454.4</td>\n",
       "      <td>677.8</td>\n",
       "      <td>733.9</td>\n",
       "      <td>298.8</td>\n",
       "      <td>355.5</td>\n",
       "      <td>99.5</td>\n",
       "      <td>47.2</td>\n",
       "      <td>3046.4</td>\n",
       "      <td>YES</td>\n",
       "    </tr>\n",
       "    <tr>\n",
       "      <th>114</th>\n",
       "      <td>KERALA</td>\n",
       "      <td>2015</td>\n",
       "      <td>3.1</td>\n",
       "      <td>5.8</td>\n",
       "      <td>50.1</td>\n",
       "      <td>214.1</td>\n",
       "      <td>201.8</td>\n",
       "      <td>563.6</td>\n",
       "      <td>406.0</td>\n",
       "      <td>252.2</td>\n",
       "      <td>292.9</td>\n",
       "      <td>308.1</td>\n",
       "      <td>223.6</td>\n",
       "      <td>79.4</td>\n",
       "      <td>2600.6</td>\n",
       "      <td>NO</td>\n",
       "    </tr>\n",
       "    <tr>\n",
       "      <th>115</th>\n",
       "      <td>KERALA</td>\n",
       "      <td>2016</td>\n",
       "      <td>2.4</td>\n",
       "      <td>3.8</td>\n",
       "      <td>35.9</td>\n",
       "      <td>143.0</td>\n",
       "      <td>186.4</td>\n",
       "      <td>522.2</td>\n",
       "      <td>412.3</td>\n",
       "      <td>325.5</td>\n",
       "      <td>173.2</td>\n",
       "      <td>225.9</td>\n",
       "      <td>125.4</td>\n",
       "      <td>23.6</td>\n",
       "      <td>2176.6</td>\n",
       "      <td>NO</td>\n",
       "    </tr>\n",
       "    <tr>\n",
       "      <th>116</th>\n",
       "      <td>KERALA</td>\n",
       "      <td>2017</td>\n",
       "      <td>1.9</td>\n",
       "      <td>6.8</td>\n",
       "      <td>8.9</td>\n",
       "      <td>43.6</td>\n",
       "      <td>173.5</td>\n",
       "      <td>498.5</td>\n",
       "      <td>319.6</td>\n",
       "      <td>531.8</td>\n",
       "      <td>209.5</td>\n",
       "      <td>192.4</td>\n",
       "      <td>92.5</td>\n",
       "      <td>38.1</td>\n",
       "      <td>2117.1</td>\n",
       "      <td>NO</td>\n",
       "    </tr>\n",
       "    <tr>\n",
       "      <th>117</th>\n",
       "      <td>KERALA</td>\n",
       "      <td>2018</td>\n",
       "      <td>29.1</td>\n",
       "      <td>52.1</td>\n",
       "      <td>48.6</td>\n",
       "      <td>116.4</td>\n",
       "      <td>183.8</td>\n",
       "      <td>625.4</td>\n",
       "      <td>1048.5</td>\n",
       "      <td>1398.9</td>\n",
       "      <td>423.6</td>\n",
       "      <td>356.1</td>\n",
       "      <td>125.4</td>\n",
       "      <td>65.1</td>\n",
       "      <td>4473.0</td>\n",
       "      <td>YES</td>\n",
       "    </tr>\n",
       "  </tbody>\n",
       "</table>\n",
       "</div>"
      ],
      "text/plain": [
       "    SUBDIVISION  YEAR   JAN   FEB   MAR    APR    MAY    JUN     JUL     AUG  \\\n",
       "113      KERALA  2014   4.6  10.3  17.9   95.7  251.0  454.4   677.8   733.9   \n",
       "114      KERALA  2015   3.1   5.8  50.1  214.1  201.8  563.6   406.0   252.2   \n",
       "115      KERALA  2016   2.4   3.8  35.9  143.0  186.4  522.2   412.3   325.5   \n",
       "116     KERALA   2017   1.9   6.8   8.9   43.6  173.5  498.5   319.6   531.8   \n",
       "117      KERALA  2018  29.1  52.1  48.6  116.4  183.8  625.4  1048.5  1398.9   \n",
       "\n",
       "       SEP    OCT    NOV   DEC   ANNUAL RAINFALL FLOODS  \n",
       "113  298.8  355.5   99.5  47.2            3046.4    YES  \n",
       "114  292.9  308.1  223.6  79.4            2600.6     NO  \n",
       "115  173.2  225.9  125.4  23.6            2176.6     NO  \n",
       "116  209.5  192.4   92.5  38.1            2117.1     NO  \n",
       "117  423.6  356.1  125.4  65.1            4473.0    YES  "
      ]
     },
     "execution_count": 7,
     "metadata": {},
     "output_type": "execute_result"
    }
   ],
   "source": [
    "data.tail()"
   ]
  },
  {
   "cell_type": "markdown",
   "metadata": {},
   "source": [
    "# Finding number of missing values"
   ]
  },
  {
   "cell_type": "code",
   "execution_count": 8,
   "metadata": {},
   "outputs": [
    {
     "data": {
      "text/plain": [
       "SUBDIVISION         0\n",
       "YEAR                0\n",
       "JAN                 0\n",
       "FEB                 0\n",
       "MAR                 0\n",
       "APR                 0\n",
       "MAY                 0\n",
       "JUN                 0\n",
       "JUL                 0\n",
       "AUG                 0\n",
       "SEP                 0\n",
       "OCT                 0\n",
       "NOV                 0\n",
       "DEC                 0\n",
       " ANNUAL RAINFALL    0\n",
       "FLOODS              0\n",
       "dtype: int64"
      ]
     },
     "execution_count": 8,
     "metadata": {},
     "output_type": "execute_result"
    }
   ],
   "source": [
    "data.isnull().sum()  # cheaking if any colomns is left empty or not."
   ]
  },
  {
   "cell_type": "markdown",
   "metadata": {},
   "source": [
    "# Analyzing the Dataset"
   ]
  },
  {
   "cell_type": "code",
   "execution_count": 9,
   "metadata": {},
   "outputs": [
    {
     "name": "stdout",
     "output_type": "stream",
     "text": [
      "(118, 16)\n"
     ]
    }
   ],
   "source": [
    "print(data.shape)"
   ]
  },
  {
   "cell_type": "code",
   "execution_count": 10,
   "metadata": {},
   "outputs": [
    {
     "data": {
      "text/html": [
       "<div>\n",
       "<style scoped>\n",
       "    .dataframe tbody tr th:only-of-type {\n",
       "        vertical-align: middle;\n",
       "    }\n",
       "\n",
       "    .dataframe tbody tr th {\n",
       "        vertical-align: top;\n",
       "    }\n",
       "\n",
       "    .dataframe thead th {\n",
       "        text-align: right;\n",
       "    }\n",
       "</style>\n",
       "<table border=\"1\" class=\"dataframe\">\n",
       "  <thead>\n",
       "    <tr style=\"text-align: right;\">\n",
       "      <th></th>\n",
       "      <th>YEAR</th>\n",
       "      <th>JAN</th>\n",
       "      <th>FEB</th>\n",
       "      <th>MAR</th>\n",
       "      <th>APR</th>\n",
       "      <th>MAY</th>\n",
       "      <th>JUN</th>\n",
       "      <th>JUL</th>\n",
       "      <th>AUG</th>\n",
       "      <th>SEP</th>\n",
       "      <th>OCT</th>\n",
       "      <th>NOV</th>\n",
       "      <th>DEC</th>\n",
       "      <th>ANNUAL RAINFALL</th>\n",
       "    </tr>\n",
       "  </thead>\n",
       "  <tbody>\n",
       "    <tr>\n",
       "      <th>count</th>\n",
       "      <td>118.000000</td>\n",
       "      <td>118.000000</td>\n",
       "      <td>118.000000</td>\n",
       "      <td>118.000000</td>\n",
       "      <td>118.000000</td>\n",
       "      <td>118.000000</td>\n",
       "      <td>118.000000</td>\n",
       "      <td>118.000000</td>\n",
       "      <td>118.000000</td>\n",
       "      <td>118.000000</td>\n",
       "      <td>118.000000</td>\n",
       "      <td>118.000000</td>\n",
       "      <td>118.000000</td>\n",
       "      <td>118.000000</td>\n",
       "    </tr>\n",
       "    <tr>\n",
       "      <th>mean</th>\n",
       "      <td>1959.500000</td>\n",
       "      <td>12.218644</td>\n",
       "      <td>15.633898</td>\n",
       "      <td>36.670339</td>\n",
       "      <td>110.330508</td>\n",
       "      <td>228.644915</td>\n",
       "      <td>651.617797</td>\n",
       "      <td>698.220339</td>\n",
       "      <td>430.369492</td>\n",
       "      <td>246.207627</td>\n",
       "      <td>293.207627</td>\n",
       "      <td>162.311017</td>\n",
       "      <td>40.009322</td>\n",
       "      <td>2925.405085</td>\n",
       "    </tr>\n",
       "    <tr>\n",
       "      <th>std</th>\n",
       "      <td>34.207699</td>\n",
       "      <td>15.473766</td>\n",
       "      <td>16.406290</td>\n",
       "      <td>30.063862</td>\n",
       "      <td>44.633452</td>\n",
       "      <td>147.548778</td>\n",
       "      <td>186.181363</td>\n",
       "      <td>228.988966</td>\n",
       "      <td>181.980463</td>\n",
       "      <td>121.901131</td>\n",
       "      <td>93.705253</td>\n",
       "      <td>83.200485</td>\n",
       "      <td>36.676330</td>\n",
       "      <td>452.169407</td>\n",
       "    </tr>\n",
       "    <tr>\n",
       "      <th>min</th>\n",
       "      <td>1901.000000</td>\n",
       "      <td>0.000000</td>\n",
       "      <td>0.000000</td>\n",
       "      <td>0.100000</td>\n",
       "      <td>13.100000</td>\n",
       "      <td>53.400000</td>\n",
       "      <td>196.800000</td>\n",
       "      <td>167.500000</td>\n",
       "      <td>178.600000</td>\n",
       "      <td>41.300000</td>\n",
       "      <td>68.500000</td>\n",
       "      <td>31.500000</td>\n",
       "      <td>0.100000</td>\n",
       "      <td>2068.800000</td>\n",
       "    </tr>\n",
       "    <tr>\n",
       "      <th>25%</th>\n",
       "      <td>1930.250000</td>\n",
       "      <td>2.175000</td>\n",
       "      <td>4.700000</td>\n",
       "      <td>18.100000</td>\n",
       "      <td>74.350000</td>\n",
       "      <td>125.050000</td>\n",
       "      <td>535.550000</td>\n",
       "      <td>533.200000</td>\n",
       "      <td>316.725000</td>\n",
       "      <td>155.425000</td>\n",
       "      <td>222.125000</td>\n",
       "      <td>93.025000</td>\n",
       "      <td>10.350000</td>\n",
       "      <td>2613.525000</td>\n",
       "    </tr>\n",
       "    <tr>\n",
       "      <th>50%</th>\n",
       "      <td>1959.500000</td>\n",
       "      <td>5.800000</td>\n",
       "      <td>8.350000</td>\n",
       "      <td>28.400000</td>\n",
       "      <td>110.400000</td>\n",
       "      <td>184.600000</td>\n",
       "      <td>625.600000</td>\n",
       "      <td>691.650000</td>\n",
       "      <td>386.250000</td>\n",
       "      <td>223.550000</td>\n",
       "      <td>284.300000</td>\n",
       "      <td>152.450000</td>\n",
       "      <td>31.100000</td>\n",
       "      <td>2934.300000</td>\n",
       "    </tr>\n",
       "    <tr>\n",
       "      <th>75%</th>\n",
       "      <td>1988.750000</td>\n",
       "      <td>18.175000</td>\n",
       "      <td>21.400000</td>\n",
       "      <td>49.825000</td>\n",
       "      <td>136.450000</td>\n",
       "      <td>264.875000</td>\n",
       "      <td>786.975000</td>\n",
       "      <td>832.425000</td>\n",
       "      <td>500.100000</td>\n",
       "      <td>334.500000</td>\n",
       "      <td>355.150000</td>\n",
       "      <td>218.325000</td>\n",
       "      <td>54.025000</td>\n",
       "      <td>3170.400000</td>\n",
       "    </tr>\n",
       "    <tr>\n",
       "      <th>max</th>\n",
       "      <td>2018.000000</td>\n",
       "      <td>83.500000</td>\n",
       "      <td>79.000000</td>\n",
       "      <td>217.200000</td>\n",
       "      <td>238.000000</td>\n",
       "      <td>738.800000</td>\n",
       "      <td>1098.200000</td>\n",
       "      <td>1526.500000</td>\n",
       "      <td>1398.900000</td>\n",
       "      <td>526.700000</td>\n",
       "      <td>567.900000</td>\n",
       "      <td>365.600000</td>\n",
       "      <td>202.300000</td>\n",
       "      <td>4473.000000</td>\n",
       "    </tr>\n",
       "  </tbody>\n",
       "</table>\n",
       "</div>"
      ],
      "text/plain": [
       "              YEAR         JAN         FEB         MAR         APR  \\\n",
       "count   118.000000  118.000000  118.000000  118.000000  118.000000   \n",
       "mean   1959.500000   12.218644   15.633898   36.670339  110.330508   \n",
       "std      34.207699   15.473766   16.406290   30.063862   44.633452   \n",
       "min    1901.000000    0.000000    0.000000    0.100000   13.100000   \n",
       "25%    1930.250000    2.175000    4.700000   18.100000   74.350000   \n",
       "50%    1959.500000    5.800000    8.350000   28.400000  110.400000   \n",
       "75%    1988.750000   18.175000   21.400000   49.825000  136.450000   \n",
       "max    2018.000000   83.500000   79.000000  217.200000  238.000000   \n",
       "\n",
       "              MAY          JUN          JUL          AUG         SEP  \\\n",
       "count  118.000000   118.000000   118.000000   118.000000  118.000000   \n",
       "mean   228.644915   651.617797   698.220339   430.369492  246.207627   \n",
       "std    147.548778   186.181363   228.988966   181.980463  121.901131   \n",
       "min     53.400000   196.800000   167.500000   178.600000   41.300000   \n",
       "25%    125.050000   535.550000   533.200000   316.725000  155.425000   \n",
       "50%    184.600000   625.600000   691.650000   386.250000  223.550000   \n",
       "75%    264.875000   786.975000   832.425000   500.100000  334.500000   \n",
       "max    738.800000  1098.200000  1526.500000  1398.900000  526.700000   \n",
       "\n",
       "              OCT         NOV         DEC   ANNUAL RAINFALL  \n",
       "count  118.000000  118.000000  118.000000        118.000000  \n",
       "mean   293.207627  162.311017   40.009322       2925.405085  \n",
       "std     93.705253   83.200485   36.676330        452.169407  \n",
       "min     68.500000   31.500000    0.100000       2068.800000  \n",
       "25%    222.125000   93.025000   10.350000       2613.525000  \n",
       "50%    284.300000  152.450000   31.100000       2934.300000  \n",
       "75%    355.150000  218.325000   54.025000       3170.400000  \n",
       "max    567.900000  365.600000  202.300000       4473.000000  "
      ]
     },
     "execution_count": 10,
     "metadata": {},
     "output_type": "execute_result"
    }
   ],
   "source": [
    "data.describe()"
   ]
  },
  {
   "cell_type": "code",
   "execution_count": 11,
   "metadata": {},
   "outputs": [
    {
     "data": {
      "text/plain": [
       "<bound method DataFrame.info of     SUBDIVISION  YEAR   JAN   FEB   MAR    APR    MAY     JUN     JUL     AUG  \\\n",
       "0        KERALA  1901  28.7  44.7  51.6  160.0  174.7   824.6   743.0   357.5   \n",
       "1        KERALA  1902   6.7   2.6  57.3   83.9  134.5   390.9  1205.0   315.8   \n",
       "2        KERALA  1903   3.2  18.6   3.1   83.6  249.7   558.6  1022.5   420.2   \n",
       "3        KERALA  1904  23.7   3.0  32.2   71.5  235.7  1098.2   725.5   351.8   \n",
       "4        KERALA  1905   1.2  22.3   9.4  105.9  263.3   850.2   520.5   293.6   \n",
       "..          ...   ...   ...   ...   ...    ...    ...     ...     ...     ...   \n",
       "113      KERALA  2014   4.6  10.3  17.9   95.7  251.0   454.4   677.8   733.9   \n",
       "114      KERALA  2015   3.1   5.8  50.1  214.1  201.8   563.6   406.0   252.2   \n",
       "115      KERALA  2016   2.4   3.8  35.9  143.0  186.4   522.2   412.3   325.5   \n",
       "116     KERALA   2017   1.9   6.8   8.9   43.6  173.5   498.5   319.6   531.8   \n",
       "117      KERALA  2018  29.1  52.1  48.6  116.4  183.8   625.4  1048.5  1398.9   \n",
       "\n",
       "       SEP    OCT    NOV    DEC   ANNUAL RAINFALL FLOODS  \n",
       "0    197.7  266.9  350.8   48.4            3248.6    YES  \n",
       "1    491.6  358.4  158.3  121.5            3326.6    YES  \n",
       "2    341.8  354.1  157.0   59.0            3271.2    YES  \n",
       "3    222.7  328.1   33.9    3.3            3129.7    YES  \n",
       "4    217.2  383.5   74.4    0.2            2741.6     NO  \n",
       "..     ...    ...    ...    ...               ...    ...  \n",
       "113  298.8  355.5   99.5   47.2            3046.4    YES  \n",
       "114  292.9  308.1  223.6   79.4            2600.6     NO  \n",
       "115  173.2  225.9  125.4   23.6            2176.6     NO  \n",
       "116  209.5  192.4   92.5   38.1            2117.1     NO  \n",
       "117  423.6  356.1  125.4   65.1            4473.0    YES  \n",
       "\n",
       "[118 rows x 16 columns]>"
      ]
     },
     "execution_count": 11,
     "metadata": {},
     "output_type": "execute_result"
    }
   ],
   "source": [
    "data.info"
   ]
  },
  {
   "cell_type": "code",
   "execution_count": 12,
   "metadata": {},
   "outputs": [
    {
     "data": {
      "text/html": [
       "<div>\n",
       "<style scoped>\n",
       "    .dataframe tbody tr th:only-of-type {\n",
       "        vertical-align: middle;\n",
       "    }\n",
       "\n",
       "    .dataframe tbody tr th {\n",
       "        vertical-align: top;\n",
       "    }\n",
       "\n",
       "    .dataframe thead th {\n",
       "        text-align: right;\n",
       "    }\n",
       "</style>\n",
       "<table border=\"1\" class=\"dataframe\">\n",
       "  <thead>\n",
       "    <tr style=\"text-align: right;\">\n",
       "      <th></th>\n",
       "      <th>YEAR</th>\n",
       "      <th>JAN</th>\n",
       "      <th>FEB</th>\n",
       "      <th>MAR</th>\n",
       "      <th>APR</th>\n",
       "      <th>MAY</th>\n",
       "      <th>JUN</th>\n",
       "      <th>JUL</th>\n",
       "      <th>AUG</th>\n",
       "      <th>SEP</th>\n",
       "      <th>OCT</th>\n",
       "      <th>NOV</th>\n",
       "      <th>DEC</th>\n",
       "      <th>ANNUAL RAINFALL</th>\n",
       "    </tr>\n",
       "  </thead>\n",
       "  <tbody>\n",
       "    <tr>\n",
       "      <th>YEAR</th>\n",
       "      <td>1170.166667</td>\n",
       "      <td>-119.378632</td>\n",
       "      <td>2.176923</td>\n",
       "      <td>-13.207265</td>\n",
       "      <td>132.625641</td>\n",
       "      <td>-301.126068</td>\n",
       "      <td>-1114.149145</td>\n",
       "      <td>-1749.953846</td>\n",
       "      <td>274.983761</td>\n",
       "      <td>448.915812</td>\n",
       "      <td>-96.876496</td>\n",
       "      <td>-370.360256</td>\n",
       "      <td>-155.123504</td>\n",
       "      <td>-3063.344444</td>\n",
       "    </tr>\n",
       "    <tr>\n",
       "      <th>JAN</th>\n",
       "      <td>-119.378632</td>\n",
       "      <td>239.437427</td>\n",
       "      <td>4.979192</td>\n",
       "      <td>36.577053</td>\n",
       "      <td>24.039512</td>\n",
       "      <td>163.062403</td>\n",
       "      <td>545.574281</td>\n",
       "      <td>121.970900</td>\n",
       "      <td>24.434163</td>\n",
       "      <td>-214.094844</td>\n",
       "      <td>-50.812451</td>\n",
       "      <td>-14.205421</td>\n",
       "      <td>-50.968209</td>\n",
       "      <td>830.154092</td>\n",
       "    </tr>\n",
       "    <tr>\n",
       "      <th>FEB</th>\n",
       "      <td>2.176923</td>\n",
       "      <td>4.979192</td>\n",
       "      <td>269.166362</td>\n",
       "      <td>121.027766</td>\n",
       "      <td>90.585966</td>\n",
       "      <td>-202.129655</td>\n",
       "      <td>165.293580</td>\n",
       "      <td>21.748364</td>\n",
       "      <td>69.442838</td>\n",
       "      <td>132.629654</td>\n",
       "      <td>81.684355</td>\n",
       "      <td>-222.332684</td>\n",
       "      <td>-76.434079</td>\n",
       "      <td>455.913330</td>\n",
       "    </tr>\n",
       "    <tr>\n",
       "      <th>MAR</th>\n",
       "      <td>-13.207265</td>\n",
       "      <td>36.577053</td>\n",
       "      <td>121.027766</td>\n",
       "      <td>903.835779</td>\n",
       "      <td>99.315784</td>\n",
       "      <td>-456.721990</td>\n",
       "      <td>106.348567</td>\n",
       "      <td>126.186249</td>\n",
       "      <td>232.033874</td>\n",
       "      <td>527.184758</td>\n",
       "      <td>-64.980285</td>\n",
       "      <td>-81.573089</td>\n",
       "      <td>28.990108</td>\n",
       "      <td>1578.305793</td>\n",
       "    </tr>\n",
       "    <tr>\n",
       "      <th>APR</th>\n",
       "      <td>132.625641</td>\n",
       "      <td>24.039512</td>\n",
       "      <td>90.585966</td>\n",
       "      <td>99.315784</td>\n",
       "      <td>1992.145044</td>\n",
       "      <td>-754.490185</td>\n",
       "      <td>606.540393</td>\n",
       "      <td>153.070058</td>\n",
       "      <td>-388.591540</td>\n",
       "      <td>70.336859</td>\n",
       "      <td>473.330962</td>\n",
       "      <td>82.464276</td>\n",
       "      <td>-180.710372</td>\n",
       "      <td>2267.590185</td>\n",
       "    </tr>\n",
       "    <tr>\n",
       "      <th>MAY</th>\n",
       "      <td>-301.126068</td>\n",
       "      <td>163.062403</td>\n",
       "      <td>-202.129655</td>\n",
       "      <td>-456.721990</td>\n",
       "      <td>-754.490185</td>\n",
       "      <td>21770.641812</td>\n",
       "      <td>33.929279</td>\n",
       "      <td>-1571.703571</td>\n",
       "      <td>-3340.586652</td>\n",
       "      <td>2101.892304</td>\n",
       "      <td>2725.149056</td>\n",
       "      <td>1165.417193</td>\n",
       "      <td>-638.978371</td>\n",
       "      <td>20997.420795</td>\n",
       "    </tr>\n",
       "    <tr>\n",
       "      <th>JUN</th>\n",
       "      <td>-1114.149145</td>\n",
       "      <td>545.574281</td>\n",
       "      <td>165.293580</td>\n",
       "      <td>106.348567</td>\n",
       "      <td>606.540393</td>\n",
       "      <td>33.929279</td>\n",
       "      <td>34663.499937</td>\n",
       "      <td>4047.567071</td>\n",
       "      <td>-492.944239</td>\n",
       "      <td>-1194.576633</td>\n",
       "      <td>20.161145</td>\n",
       "      <td>247.329460</td>\n",
       "      <td>-581.699654</td>\n",
       "      <td>38170.332986</td>\n",
       "    </tr>\n",
       "    <tr>\n",
       "      <th>JUL</th>\n",
       "      <td>-1749.953846</td>\n",
       "      <td>121.970900</td>\n",
       "      <td>21.748364</td>\n",
       "      <td>126.186249</td>\n",
       "      <td>153.070058</td>\n",
       "      <td>-1571.703571</td>\n",
       "      <td>4047.567071</td>\n",
       "      <td>52435.946420</td>\n",
       "      <td>6436.876865</td>\n",
       "      <td>5846.347194</td>\n",
       "      <td>541.214459</td>\n",
       "      <td>-543.479371</td>\n",
       "      <td>-113.988396</td>\n",
       "      <td>67508.201520</td>\n",
       "    </tr>\n",
       "    <tr>\n",
       "      <th>AUG</th>\n",
       "      <td>274.983761</td>\n",
       "      <td>24.434163</td>\n",
       "      <td>69.442838</td>\n",
       "      <td>232.033874</td>\n",
       "      <td>-388.591540</td>\n",
       "      <td>-3340.586652</td>\n",
       "      <td>-492.944239</td>\n",
       "      <td>6436.876865</td>\n",
       "      <td>33116.888805</td>\n",
       "      <td>2178.762799</td>\n",
       "      <td>-3094.959423</td>\n",
       "      <td>-1706.808293</td>\n",
       "      <td>948.365073</td>\n",
       "      <td>33987.052721</td>\n",
       "    </tr>\n",
       "    <tr>\n",
       "      <th>SEP</th>\n",
       "      <td>448.915812</td>\n",
       "      <td>-214.094844</td>\n",
       "      <td>132.629654</td>\n",
       "      <td>527.184758</td>\n",
       "      <td>70.336859</td>\n",
       "      <td>2101.892304</td>\n",
       "      <td>-1194.576633</td>\n",
       "      <td>5846.347194</td>\n",
       "      <td>2178.762799</td>\n",
       "      <td>14859.885839</td>\n",
       "      <td>-369.500828</td>\n",
       "      <td>-280.077350</td>\n",
       "      <td>-49.210243</td>\n",
       "      <td>23610.285602</td>\n",
       "    </tr>\n",
       "    <tr>\n",
       "      <th>OCT</th>\n",
       "      <td>-96.876496</td>\n",
       "      <td>-50.812451</td>\n",
       "      <td>81.684355</td>\n",
       "      <td>-64.980285</td>\n",
       "      <td>473.330962</td>\n",
       "      <td>2725.149056</td>\n",
       "      <td>20.161145</td>\n",
       "      <td>541.214459</td>\n",
       "      <td>-3094.959423</td>\n",
       "      <td>-369.500828</td>\n",
       "      <td>8780.674386</td>\n",
       "      <td>-187.580256</td>\n",
       "      <td>-134.262978</td>\n",
       "      <td>8722.467910</td>\n",
       "    </tr>\n",
       "    <tr>\n",
       "      <th>NOV</th>\n",
       "      <td>-370.360256</td>\n",
       "      <td>-14.205421</td>\n",
       "      <td>-222.332684</td>\n",
       "      <td>-81.573089</td>\n",
       "      <td>82.464276</td>\n",
       "      <td>1165.417193</td>\n",
       "      <td>247.329460</td>\n",
       "      <td>-543.479371</td>\n",
       "      <td>-1706.808293</td>\n",
       "      <td>-280.077350</td>\n",
       "      <td>-187.580256</td>\n",
       "      <td>6922.320647</td>\n",
       "      <td>215.801948</td>\n",
       "      <td>5597.319516</td>\n",
       "    </tr>\n",
       "    <tr>\n",
       "      <th>DEC</th>\n",
       "      <td>-155.123504</td>\n",
       "      <td>-50.968209</td>\n",
       "      <td>-76.434079</td>\n",
       "      <td>28.990108</td>\n",
       "      <td>-180.710372</td>\n",
       "      <td>-638.978371</td>\n",
       "      <td>-581.699654</td>\n",
       "      <td>-113.988396</td>\n",
       "      <td>948.365073</td>\n",
       "      <td>-49.210243</td>\n",
       "      <td>-134.262978</td>\n",
       "      <td>215.801948</td>\n",
       "      <td>1345.153160</td>\n",
       "      <td>712.560721</td>\n",
       "    </tr>\n",
       "    <tr>\n",
       "      <th>ANNUAL RAINFALL</th>\n",
       "      <td>-3063.344444</td>\n",
       "      <td>830.154092</td>\n",
       "      <td>455.913330</td>\n",
       "      <td>1578.305793</td>\n",
       "      <td>2267.590185</td>\n",
       "      <td>20997.420795</td>\n",
       "      <td>38170.332986</td>\n",
       "      <td>67508.201520</td>\n",
       "      <td>33987.052721</td>\n",
       "      <td>23610.285602</td>\n",
       "      <td>8722.467910</td>\n",
       "      <td>5597.319516</td>\n",
       "      <td>712.560721</td>\n",
       "      <td>204457.172453</td>\n",
       "    </tr>\n",
       "  </tbody>\n",
       "</table>\n",
       "</div>"
      ],
      "text/plain": [
       "                         YEAR         JAN         FEB          MAR  \\\n",
       "YEAR              1170.166667 -119.378632    2.176923   -13.207265   \n",
       "JAN               -119.378632  239.437427    4.979192    36.577053   \n",
       "FEB                  2.176923    4.979192  269.166362   121.027766   \n",
       "MAR                -13.207265   36.577053  121.027766   903.835779   \n",
       "APR                132.625641   24.039512   90.585966    99.315784   \n",
       "MAY               -301.126068  163.062403 -202.129655  -456.721990   \n",
       "JUN              -1114.149145  545.574281  165.293580   106.348567   \n",
       "JUL              -1749.953846  121.970900   21.748364   126.186249   \n",
       "AUG                274.983761   24.434163   69.442838   232.033874   \n",
       "SEP                448.915812 -214.094844  132.629654   527.184758   \n",
       "OCT                -96.876496  -50.812451   81.684355   -64.980285   \n",
       "NOV               -370.360256  -14.205421 -222.332684   -81.573089   \n",
       "DEC               -155.123504  -50.968209  -76.434079    28.990108   \n",
       " ANNUAL RAINFALL -3063.344444  830.154092  455.913330  1578.305793   \n",
       "\n",
       "                          APR           MAY           JUN           JUL  \\\n",
       "YEAR               132.625641   -301.126068  -1114.149145  -1749.953846   \n",
       "JAN                 24.039512    163.062403    545.574281    121.970900   \n",
       "FEB                 90.585966   -202.129655    165.293580     21.748364   \n",
       "MAR                 99.315784   -456.721990    106.348567    126.186249   \n",
       "APR               1992.145044   -754.490185    606.540393    153.070058   \n",
       "MAY               -754.490185  21770.641812     33.929279  -1571.703571   \n",
       "JUN                606.540393     33.929279  34663.499937   4047.567071   \n",
       "JUL                153.070058  -1571.703571   4047.567071  52435.946420   \n",
       "AUG               -388.591540  -3340.586652   -492.944239   6436.876865   \n",
       "SEP                 70.336859   2101.892304  -1194.576633   5846.347194   \n",
       "OCT                473.330962   2725.149056     20.161145    541.214459   \n",
       "NOV                 82.464276   1165.417193    247.329460   -543.479371   \n",
       "DEC               -180.710372   -638.978371   -581.699654   -113.988396   \n",
       " ANNUAL RAINFALL  2267.590185  20997.420795  38170.332986  67508.201520   \n",
       "\n",
       "                           AUG           SEP          OCT          NOV  \\\n",
       "YEAR                274.983761    448.915812   -96.876496  -370.360256   \n",
       "JAN                  24.434163   -214.094844   -50.812451   -14.205421   \n",
       "FEB                  69.442838    132.629654    81.684355  -222.332684   \n",
       "MAR                 232.033874    527.184758   -64.980285   -81.573089   \n",
       "APR                -388.591540     70.336859   473.330962    82.464276   \n",
       "MAY               -3340.586652   2101.892304  2725.149056  1165.417193   \n",
       "JUN                -492.944239  -1194.576633    20.161145   247.329460   \n",
       "JUL                6436.876865   5846.347194   541.214459  -543.479371   \n",
       "AUG               33116.888805   2178.762799 -3094.959423 -1706.808293   \n",
       "SEP                2178.762799  14859.885839  -369.500828  -280.077350   \n",
       "OCT               -3094.959423   -369.500828  8780.674386  -187.580256   \n",
       "NOV               -1706.808293   -280.077350  -187.580256  6922.320647   \n",
       "DEC                 948.365073    -49.210243  -134.262978   215.801948   \n",
       " ANNUAL RAINFALL  33987.052721  23610.285602  8722.467910  5597.319516   \n",
       "\n",
       "                          DEC   ANNUAL RAINFALL  \n",
       "YEAR              -155.123504      -3063.344444  \n",
       "JAN                -50.968209        830.154092  \n",
       "FEB                -76.434079        455.913330  \n",
       "MAR                 28.990108       1578.305793  \n",
       "APR               -180.710372       2267.590185  \n",
       "MAY               -638.978371      20997.420795  \n",
       "JUN               -581.699654      38170.332986  \n",
       "JUL               -113.988396      67508.201520  \n",
       "AUG                948.365073      33987.052721  \n",
       "SEP                -49.210243      23610.285602  \n",
       "OCT               -134.262978       8722.467910  \n",
       "NOV                215.801948       5597.319516  \n",
       "DEC               1345.153160        712.560721  \n",
       " ANNUAL RAINFALL   712.560721     204457.172453  "
      ]
     },
     "execution_count": 12,
     "metadata": {},
     "output_type": "execute_result"
    }
   ],
   "source": [
    "data.cov()"
   ]
  },
  {
   "cell_type": "code",
   "execution_count": 13,
   "metadata": {},
   "outputs": [
    {
     "data": {
      "text/html": [
       "<div>\n",
       "<style scoped>\n",
       "    .dataframe tbody tr th:only-of-type {\n",
       "        vertical-align: middle;\n",
       "    }\n",
       "\n",
       "    .dataframe tbody tr th {\n",
       "        vertical-align: top;\n",
       "    }\n",
       "\n",
       "    .dataframe thead th {\n",
       "        text-align: right;\n",
       "    }\n",
       "</style>\n",
       "<table border=\"1\" class=\"dataframe\">\n",
       "  <thead>\n",
       "    <tr style=\"text-align: right;\">\n",
       "      <th></th>\n",
       "      <th>YEAR</th>\n",
       "      <th>JAN</th>\n",
       "      <th>FEB</th>\n",
       "      <th>MAR</th>\n",
       "      <th>APR</th>\n",
       "      <th>MAY</th>\n",
       "      <th>JUN</th>\n",
       "      <th>JUL</th>\n",
       "      <th>AUG</th>\n",
       "      <th>SEP</th>\n",
       "      <th>OCT</th>\n",
       "      <th>NOV</th>\n",
       "      <th>DEC</th>\n",
       "      <th>ANNUAL RAINFALL</th>\n",
       "    </tr>\n",
       "  </thead>\n",
       "  <tbody>\n",
       "    <tr>\n",
       "      <th>YEAR</th>\n",
       "      <td>1.000000</td>\n",
       "      <td>-0.225531</td>\n",
       "      <td>0.003879</td>\n",
       "      <td>-0.012842</td>\n",
       "      <td>0.086865</td>\n",
       "      <td>-0.059661</td>\n",
       "      <td>-0.174938</td>\n",
       "      <td>-0.223403</td>\n",
       "      <td>0.044173</td>\n",
       "      <td>0.107655</td>\n",
       "      <td>-0.030223</td>\n",
       "      <td>-0.130129</td>\n",
       "      <td>-0.123643</td>\n",
       "      <td>-0.198048</td>\n",
       "    </tr>\n",
       "    <tr>\n",
       "      <th>JAN</th>\n",
       "      <td>-0.225531</td>\n",
       "      <td>1.000000</td>\n",
       "      <td>0.019613</td>\n",
       "      <td>0.078626</td>\n",
       "      <td>0.034807</td>\n",
       "      <td>0.071420</td>\n",
       "      <td>0.189375</td>\n",
       "      <td>0.034423</td>\n",
       "      <td>0.008677</td>\n",
       "      <td>-0.113502</td>\n",
       "      <td>-0.035044</td>\n",
       "      <td>-0.011034</td>\n",
       "      <td>-0.089809</td>\n",
       "      <td>0.118648</td>\n",
       "    </tr>\n",
       "    <tr>\n",
       "      <th>FEB</th>\n",
       "      <td>0.003879</td>\n",
       "      <td>0.019613</td>\n",
       "      <td>1.000000</td>\n",
       "      <td>0.245375</td>\n",
       "      <td>0.123706</td>\n",
       "      <td>-0.083500</td>\n",
       "      <td>0.054114</td>\n",
       "      <td>0.005789</td>\n",
       "      <td>0.023259</td>\n",
       "      <td>0.066317</td>\n",
       "      <td>0.053133</td>\n",
       "      <td>-0.162880</td>\n",
       "      <td>-0.127025</td>\n",
       "      <td>0.061457</td>\n",
       "    </tr>\n",
       "    <tr>\n",
       "      <th>MAR</th>\n",
       "      <td>-0.012842</td>\n",
       "      <td>0.078626</td>\n",
       "      <td>0.245375</td>\n",
       "      <td>1.000000</td>\n",
       "      <td>0.074014</td>\n",
       "      <td>-0.102961</td>\n",
       "      <td>0.019000</td>\n",
       "      <td>0.018330</td>\n",
       "      <td>0.042411</td>\n",
       "      <td>0.143850</td>\n",
       "      <td>-0.023066</td>\n",
       "      <td>-0.032612</td>\n",
       "      <td>0.026292</td>\n",
       "      <td>0.116103</td>\n",
       "    </tr>\n",
       "    <tr>\n",
       "      <th>APR</th>\n",
       "      <td>0.086865</td>\n",
       "      <td>0.034807</td>\n",
       "      <td>0.123706</td>\n",
       "      <td>0.074014</td>\n",
       "      <td>1.000000</td>\n",
       "      <td>-0.114566</td>\n",
       "      <td>0.072990</td>\n",
       "      <td>0.014977</td>\n",
       "      <td>-0.047842</td>\n",
       "      <td>0.012928</td>\n",
       "      <td>0.113172</td>\n",
       "      <td>0.022206</td>\n",
       "      <td>-0.110392</td>\n",
       "      <td>0.112358</td>\n",
       "    </tr>\n",
       "    <tr>\n",
       "      <th>MAY</th>\n",
       "      <td>-0.059661</td>\n",
       "      <td>0.071420</td>\n",
       "      <td>-0.083500</td>\n",
       "      <td>-0.102961</td>\n",
       "      <td>-0.114566</td>\n",
       "      <td>1.000000</td>\n",
       "      <td>0.001235</td>\n",
       "      <td>-0.046518</td>\n",
       "      <td>-0.124412</td>\n",
       "      <td>0.116860</td>\n",
       "      <td>0.197102</td>\n",
       "      <td>0.094934</td>\n",
       "      <td>-0.118077</td>\n",
       "      <td>0.314723</td>\n",
       "    </tr>\n",
       "    <tr>\n",
       "      <th>JUN</th>\n",
       "      <td>-0.174938</td>\n",
       "      <td>0.189375</td>\n",
       "      <td>0.054114</td>\n",
       "      <td>0.019000</td>\n",
       "      <td>0.072990</td>\n",
       "      <td>0.001235</td>\n",
       "      <td>1.000000</td>\n",
       "      <td>0.094939</td>\n",
       "      <td>-0.014549</td>\n",
       "      <td>-0.052634</td>\n",
       "      <td>0.001156</td>\n",
       "      <td>0.015967</td>\n",
       "      <td>-0.085188</td>\n",
       "      <td>0.453407</td>\n",
       "    </tr>\n",
       "    <tr>\n",
       "      <th>JUL</th>\n",
       "      <td>-0.223403</td>\n",
       "      <td>0.034423</td>\n",
       "      <td>0.005789</td>\n",
       "      <td>0.018330</td>\n",
       "      <td>0.014977</td>\n",
       "      <td>-0.046518</td>\n",
       "      <td>0.094939</td>\n",
       "      <td>1.000000</td>\n",
       "      <td>0.154467</td>\n",
       "      <td>0.209441</td>\n",
       "      <td>0.025223</td>\n",
       "      <td>-0.028526</td>\n",
       "      <td>-0.013573</td>\n",
       "      <td>0.651990</td>\n",
       "    </tr>\n",
       "    <tr>\n",
       "      <th>AUG</th>\n",
       "      <td>0.044173</td>\n",
       "      <td>0.008677</td>\n",
       "      <td>0.023259</td>\n",
       "      <td>0.042411</td>\n",
       "      <td>-0.047842</td>\n",
       "      <td>-0.124412</td>\n",
       "      <td>-0.014549</td>\n",
       "      <td>0.154467</td>\n",
       "      <td>1.000000</td>\n",
       "      <td>0.098215</td>\n",
       "      <td>-0.181496</td>\n",
       "      <td>-0.112729</td>\n",
       "      <td>0.142090</td>\n",
       "      <td>0.413036</td>\n",
       "    </tr>\n",
       "    <tr>\n",
       "      <th>SEP</th>\n",
       "      <td>0.107655</td>\n",
       "      <td>-0.113502</td>\n",
       "      <td>0.066317</td>\n",
       "      <td>0.143850</td>\n",
       "      <td>0.012928</td>\n",
       "      <td>0.116860</td>\n",
       "      <td>-0.052634</td>\n",
       "      <td>0.209441</td>\n",
       "      <td>0.098215</td>\n",
       "      <td>1.000000</td>\n",
       "      <td>-0.032348</td>\n",
       "      <td>-0.027615</td>\n",
       "      <td>-0.011007</td>\n",
       "      <td>0.428344</td>\n",
       "    </tr>\n",
       "    <tr>\n",
       "      <th>OCT</th>\n",
       "      <td>-0.030223</td>\n",
       "      <td>-0.035044</td>\n",
       "      <td>0.053133</td>\n",
       "      <td>-0.023066</td>\n",
       "      <td>0.113172</td>\n",
       "      <td>0.197102</td>\n",
       "      <td>0.001156</td>\n",
       "      <td>0.025223</td>\n",
       "      <td>-0.181496</td>\n",
       "      <td>-0.032348</td>\n",
       "      <td>1.000000</td>\n",
       "      <td>-0.024060</td>\n",
       "      <td>-0.039067</td>\n",
       "      <td>0.205861</td>\n",
       "    </tr>\n",
       "    <tr>\n",
       "      <th>NOV</th>\n",
       "      <td>-0.130129</td>\n",
       "      <td>-0.011034</td>\n",
       "      <td>-0.162880</td>\n",
       "      <td>-0.032612</td>\n",
       "      <td>0.022206</td>\n",
       "      <td>0.094934</td>\n",
       "      <td>0.015967</td>\n",
       "      <td>-0.028526</td>\n",
       "      <td>-0.112729</td>\n",
       "      <td>-0.027615</td>\n",
       "      <td>-0.024060</td>\n",
       "      <td>1.000000</td>\n",
       "      <td>0.070720</td>\n",
       "      <td>0.148783</td>\n",
       "    </tr>\n",
       "    <tr>\n",
       "      <th>DEC</th>\n",
       "      <td>-0.123643</td>\n",
       "      <td>-0.089809</td>\n",
       "      <td>-0.127025</td>\n",
       "      <td>0.026292</td>\n",
       "      <td>-0.110392</td>\n",
       "      <td>-0.118077</td>\n",
       "      <td>-0.085188</td>\n",
       "      <td>-0.013573</td>\n",
       "      <td>0.142090</td>\n",
       "      <td>-0.011007</td>\n",
       "      <td>-0.039067</td>\n",
       "      <td>0.070720</td>\n",
       "      <td>1.000000</td>\n",
       "      <td>0.042967</td>\n",
       "    </tr>\n",
       "    <tr>\n",
       "      <th>ANNUAL RAINFALL</th>\n",
       "      <td>-0.198048</td>\n",
       "      <td>0.118648</td>\n",
       "      <td>0.061457</td>\n",
       "      <td>0.116103</td>\n",
       "      <td>0.112358</td>\n",
       "      <td>0.314723</td>\n",
       "      <td>0.453407</td>\n",
       "      <td>0.651990</td>\n",
       "      <td>0.413036</td>\n",
       "      <td>0.428344</td>\n",
       "      <td>0.205861</td>\n",
       "      <td>0.148783</td>\n",
       "      <td>0.042967</td>\n",
       "      <td>1.000000</td>\n",
       "    </tr>\n",
       "  </tbody>\n",
       "</table>\n",
       "</div>"
      ],
      "text/plain": [
       "                      YEAR       JAN       FEB       MAR       APR       MAY  \\\n",
       "YEAR              1.000000 -0.225531  0.003879 -0.012842  0.086865 -0.059661   \n",
       "JAN              -0.225531  1.000000  0.019613  0.078626  0.034807  0.071420   \n",
       "FEB               0.003879  0.019613  1.000000  0.245375  0.123706 -0.083500   \n",
       "MAR              -0.012842  0.078626  0.245375  1.000000  0.074014 -0.102961   \n",
       "APR               0.086865  0.034807  0.123706  0.074014  1.000000 -0.114566   \n",
       "MAY              -0.059661  0.071420 -0.083500 -0.102961 -0.114566  1.000000   \n",
       "JUN              -0.174938  0.189375  0.054114  0.019000  0.072990  0.001235   \n",
       "JUL              -0.223403  0.034423  0.005789  0.018330  0.014977 -0.046518   \n",
       "AUG               0.044173  0.008677  0.023259  0.042411 -0.047842 -0.124412   \n",
       "SEP               0.107655 -0.113502  0.066317  0.143850  0.012928  0.116860   \n",
       "OCT              -0.030223 -0.035044  0.053133 -0.023066  0.113172  0.197102   \n",
       "NOV              -0.130129 -0.011034 -0.162880 -0.032612  0.022206  0.094934   \n",
       "DEC              -0.123643 -0.089809 -0.127025  0.026292 -0.110392 -0.118077   \n",
       " ANNUAL RAINFALL -0.198048  0.118648  0.061457  0.116103  0.112358  0.314723   \n",
       "\n",
       "                       JUN       JUL       AUG       SEP       OCT       NOV  \\\n",
       "YEAR             -0.174938 -0.223403  0.044173  0.107655 -0.030223 -0.130129   \n",
       "JAN               0.189375  0.034423  0.008677 -0.113502 -0.035044 -0.011034   \n",
       "FEB               0.054114  0.005789  0.023259  0.066317  0.053133 -0.162880   \n",
       "MAR               0.019000  0.018330  0.042411  0.143850 -0.023066 -0.032612   \n",
       "APR               0.072990  0.014977 -0.047842  0.012928  0.113172  0.022206   \n",
       "MAY               0.001235 -0.046518 -0.124412  0.116860  0.197102  0.094934   \n",
       "JUN               1.000000  0.094939 -0.014549 -0.052634  0.001156  0.015967   \n",
       "JUL               0.094939  1.000000  0.154467  0.209441  0.025223 -0.028526   \n",
       "AUG              -0.014549  0.154467  1.000000  0.098215 -0.181496 -0.112729   \n",
       "SEP              -0.052634  0.209441  0.098215  1.000000 -0.032348 -0.027615   \n",
       "OCT               0.001156  0.025223 -0.181496 -0.032348  1.000000 -0.024060   \n",
       "NOV               0.015967 -0.028526 -0.112729 -0.027615 -0.024060  1.000000   \n",
       "DEC              -0.085188 -0.013573  0.142090 -0.011007 -0.039067  0.070720   \n",
       " ANNUAL RAINFALL  0.453407  0.651990  0.413036  0.428344  0.205861  0.148783   \n",
       "\n",
       "                       DEC   ANNUAL RAINFALL  \n",
       "YEAR             -0.123643         -0.198048  \n",
       "JAN              -0.089809          0.118648  \n",
       "FEB              -0.127025          0.061457  \n",
       "MAR               0.026292          0.116103  \n",
       "APR              -0.110392          0.112358  \n",
       "MAY              -0.118077          0.314723  \n",
       "JUN              -0.085188          0.453407  \n",
       "JUL              -0.013573          0.651990  \n",
       "AUG               0.142090          0.413036  \n",
       "SEP              -0.011007          0.428344  \n",
       "OCT              -0.039067          0.205861  \n",
       "NOV               0.070720          0.148783  \n",
       "DEC               1.000000          0.042967  \n",
       " ANNUAL RAINFALL  0.042967          1.000000  "
      ]
     },
     "execution_count": 13,
     "metadata": {},
     "output_type": "execute_result"
    }
   ],
   "source": [
    "data.corr()"
   ]
  },
  {
   "cell_type": "code",
   "execution_count": 14,
   "metadata": {},
   "outputs": [],
   "source": [
    "# replacing the yes/no in floods coloumn by 1/0\n",
    "data['FLOODS'].replace(['YES','NO'],[1,0],inplace=True)"
   ]
  },
  {
   "cell_type": "code",
   "execution_count": 15,
   "metadata": {},
   "outputs": [
    {
     "data": {
      "text/html": [
       "<div>\n",
       "<style scoped>\n",
       "    .dataframe tbody tr th:only-of-type {\n",
       "        vertical-align: middle;\n",
       "    }\n",
       "\n",
       "    .dataframe tbody tr th {\n",
       "        vertical-align: top;\n",
       "    }\n",
       "\n",
       "    .dataframe thead th {\n",
       "        text-align: right;\n",
       "    }\n",
       "</style>\n",
       "<table border=\"1\" class=\"dataframe\">\n",
       "  <thead>\n",
       "    <tr style=\"text-align: right;\">\n",
       "      <th></th>\n",
       "      <th>SUBDIVISION</th>\n",
       "      <th>YEAR</th>\n",
       "      <th>JAN</th>\n",
       "      <th>FEB</th>\n",
       "      <th>MAR</th>\n",
       "      <th>APR</th>\n",
       "      <th>MAY</th>\n",
       "      <th>JUN</th>\n",
       "      <th>JUL</th>\n",
       "      <th>AUG</th>\n",
       "      <th>SEP</th>\n",
       "      <th>OCT</th>\n",
       "      <th>NOV</th>\n",
       "      <th>DEC</th>\n",
       "      <th>ANNUAL RAINFALL</th>\n",
       "      <th>FLOODS</th>\n",
       "    </tr>\n",
       "  </thead>\n",
       "  <tbody>\n",
       "    <tr>\n",
       "      <th>0</th>\n",
       "      <td>KERALA</td>\n",
       "      <td>1901</td>\n",
       "      <td>28.7</td>\n",
       "      <td>44.7</td>\n",
       "      <td>51.6</td>\n",
       "      <td>160.0</td>\n",
       "      <td>174.7</td>\n",
       "      <td>824.6</td>\n",
       "      <td>743.0</td>\n",
       "      <td>357.5</td>\n",
       "      <td>197.7</td>\n",
       "      <td>266.9</td>\n",
       "      <td>350.8</td>\n",
       "      <td>48.4</td>\n",
       "      <td>3248.6</td>\n",
       "      <td>1</td>\n",
       "    </tr>\n",
       "    <tr>\n",
       "      <th>1</th>\n",
       "      <td>KERALA</td>\n",
       "      <td>1902</td>\n",
       "      <td>6.7</td>\n",
       "      <td>2.6</td>\n",
       "      <td>57.3</td>\n",
       "      <td>83.9</td>\n",
       "      <td>134.5</td>\n",
       "      <td>390.9</td>\n",
       "      <td>1205.0</td>\n",
       "      <td>315.8</td>\n",
       "      <td>491.6</td>\n",
       "      <td>358.4</td>\n",
       "      <td>158.3</td>\n",
       "      <td>121.5</td>\n",
       "      <td>3326.6</td>\n",
       "      <td>1</td>\n",
       "    </tr>\n",
       "    <tr>\n",
       "      <th>2</th>\n",
       "      <td>KERALA</td>\n",
       "      <td>1903</td>\n",
       "      <td>3.2</td>\n",
       "      <td>18.6</td>\n",
       "      <td>3.1</td>\n",
       "      <td>83.6</td>\n",
       "      <td>249.7</td>\n",
       "      <td>558.6</td>\n",
       "      <td>1022.5</td>\n",
       "      <td>420.2</td>\n",
       "      <td>341.8</td>\n",
       "      <td>354.1</td>\n",
       "      <td>157.0</td>\n",
       "      <td>59.0</td>\n",
       "      <td>3271.2</td>\n",
       "      <td>1</td>\n",
       "    </tr>\n",
       "    <tr>\n",
       "      <th>3</th>\n",
       "      <td>KERALA</td>\n",
       "      <td>1904</td>\n",
       "      <td>23.7</td>\n",
       "      <td>3.0</td>\n",
       "      <td>32.2</td>\n",
       "      <td>71.5</td>\n",
       "      <td>235.7</td>\n",
       "      <td>1098.2</td>\n",
       "      <td>725.5</td>\n",
       "      <td>351.8</td>\n",
       "      <td>222.7</td>\n",
       "      <td>328.1</td>\n",
       "      <td>33.9</td>\n",
       "      <td>3.3</td>\n",
       "      <td>3129.7</td>\n",
       "      <td>1</td>\n",
       "    </tr>\n",
       "    <tr>\n",
       "      <th>4</th>\n",
       "      <td>KERALA</td>\n",
       "      <td>1905</td>\n",
       "      <td>1.2</td>\n",
       "      <td>22.3</td>\n",
       "      <td>9.4</td>\n",
       "      <td>105.9</td>\n",
       "      <td>263.3</td>\n",
       "      <td>850.2</td>\n",
       "      <td>520.5</td>\n",
       "      <td>293.6</td>\n",
       "      <td>217.2</td>\n",
       "      <td>383.5</td>\n",
       "      <td>74.4</td>\n",
       "      <td>0.2</td>\n",
       "      <td>2741.6</td>\n",
       "      <td>0</td>\n",
       "    </tr>\n",
       "  </tbody>\n",
       "</table>\n",
       "</div>"
      ],
      "text/plain": [
       "  SUBDIVISION  YEAR   JAN   FEB   MAR    APR    MAY     JUN     JUL    AUG  \\\n",
       "0      KERALA  1901  28.7  44.7  51.6  160.0  174.7   824.6   743.0  357.5   \n",
       "1      KERALA  1902   6.7   2.6  57.3   83.9  134.5   390.9  1205.0  315.8   \n",
       "2      KERALA  1903   3.2  18.6   3.1   83.6  249.7   558.6  1022.5  420.2   \n",
       "3      KERALA  1904  23.7   3.0  32.2   71.5  235.7  1098.2   725.5  351.8   \n",
       "4      KERALA  1905   1.2  22.3   9.4  105.9  263.3   850.2   520.5  293.6   \n",
       "\n",
       "     SEP    OCT    NOV    DEC   ANNUAL RAINFALL  FLOODS  \n",
       "0  197.7  266.9  350.8   48.4            3248.6       1  \n",
       "1  491.6  358.4  158.3  121.5            3326.6       1  \n",
       "2  341.8  354.1  157.0   59.0            3271.2       1  \n",
       "3  222.7  328.1   33.9    3.3            3129.7       1  \n",
       "4  217.2  383.5   74.4    0.2            2741.6       0  "
      ]
     },
     "execution_count": 15,
     "metadata": {},
     "output_type": "execute_result"
    }
   ],
   "source": [
    "#Printing the clean data\n",
    "data.head()"
   ]
  },
  {
   "cell_type": "code",
   "execution_count": 16,
   "metadata": {},
   "outputs": [
    {
     "data": {
      "text/html": [
       "<div>\n",
       "<style scoped>\n",
       "    .dataframe tbody tr th:only-of-type {\n",
       "        vertical-align: middle;\n",
       "    }\n",
       "\n",
       "    .dataframe tbody tr th {\n",
       "        vertical-align: top;\n",
       "    }\n",
       "\n",
       "    .dataframe thead th {\n",
       "        text-align: right;\n",
       "    }\n",
       "</style>\n",
       "<table border=\"1\" class=\"dataframe\">\n",
       "  <thead>\n",
       "    <tr style=\"text-align: right;\">\n",
       "      <th></th>\n",
       "      <th>YEAR</th>\n",
       "      <th>JAN</th>\n",
       "      <th>FEB</th>\n",
       "      <th>MAR</th>\n",
       "      <th>APR</th>\n",
       "      <th>MAY</th>\n",
       "      <th>JUN</th>\n",
       "      <th>JUL</th>\n",
       "      <th>AUG</th>\n",
       "      <th>SEP</th>\n",
       "      <th>OCT</th>\n",
       "      <th>NOV</th>\n",
       "      <th>DEC</th>\n",
       "    </tr>\n",
       "  </thead>\n",
       "  <tbody>\n",
       "    <tr>\n",
       "      <th>0</th>\n",
       "      <td>1901</td>\n",
       "      <td>28.7</td>\n",
       "      <td>44.7</td>\n",
       "      <td>51.6</td>\n",
       "      <td>160.0</td>\n",
       "      <td>174.7</td>\n",
       "      <td>824.6</td>\n",
       "      <td>743.0</td>\n",
       "      <td>357.5</td>\n",
       "      <td>197.7</td>\n",
       "      <td>266.9</td>\n",
       "      <td>350.8</td>\n",
       "      <td>48.4</td>\n",
       "    </tr>\n",
       "    <tr>\n",
       "      <th>1</th>\n",
       "      <td>1902</td>\n",
       "      <td>6.7</td>\n",
       "      <td>2.6</td>\n",
       "      <td>57.3</td>\n",
       "      <td>83.9</td>\n",
       "      <td>134.5</td>\n",
       "      <td>390.9</td>\n",
       "      <td>1205.0</td>\n",
       "      <td>315.8</td>\n",
       "      <td>491.6</td>\n",
       "      <td>358.4</td>\n",
       "      <td>158.3</td>\n",
       "      <td>121.5</td>\n",
       "    </tr>\n",
       "    <tr>\n",
       "      <th>2</th>\n",
       "      <td>1903</td>\n",
       "      <td>3.2</td>\n",
       "      <td>18.6</td>\n",
       "      <td>3.1</td>\n",
       "      <td>83.6</td>\n",
       "      <td>249.7</td>\n",
       "      <td>558.6</td>\n",
       "      <td>1022.5</td>\n",
       "      <td>420.2</td>\n",
       "      <td>341.8</td>\n",
       "      <td>354.1</td>\n",
       "      <td>157.0</td>\n",
       "      <td>59.0</td>\n",
       "    </tr>\n",
       "    <tr>\n",
       "      <th>3</th>\n",
       "      <td>1904</td>\n",
       "      <td>23.7</td>\n",
       "      <td>3.0</td>\n",
       "      <td>32.2</td>\n",
       "      <td>71.5</td>\n",
       "      <td>235.7</td>\n",
       "      <td>1098.2</td>\n",
       "      <td>725.5</td>\n",
       "      <td>351.8</td>\n",
       "      <td>222.7</td>\n",
       "      <td>328.1</td>\n",
       "      <td>33.9</td>\n",
       "      <td>3.3</td>\n",
       "    </tr>\n",
       "    <tr>\n",
       "      <th>4</th>\n",
       "      <td>1905</td>\n",
       "      <td>1.2</td>\n",
       "      <td>22.3</td>\n",
       "      <td>9.4</td>\n",
       "      <td>105.9</td>\n",
       "      <td>263.3</td>\n",
       "      <td>850.2</td>\n",
       "      <td>520.5</td>\n",
       "      <td>293.6</td>\n",
       "      <td>217.2</td>\n",
       "      <td>383.5</td>\n",
       "      <td>74.4</td>\n",
       "      <td>0.2</td>\n",
       "    </tr>\n",
       "  </tbody>\n",
       "</table>\n",
       "</div>"
      ],
      "text/plain": [
       "   YEAR   JAN   FEB   MAR    APR    MAY     JUN     JUL    AUG    SEP    OCT  \\\n",
       "0  1901  28.7  44.7  51.6  160.0  174.7   824.6   743.0  357.5  197.7  266.9   \n",
       "1  1902   6.7   2.6  57.3   83.9  134.5   390.9  1205.0  315.8  491.6  358.4   \n",
       "2  1903   3.2  18.6   3.1   83.6  249.7   558.6  1022.5  420.2  341.8  354.1   \n",
       "3  1904  23.7   3.0  32.2   71.5  235.7  1098.2   725.5  351.8  222.7  328.1   \n",
       "4  1905   1.2  22.3   9.4  105.9  263.3   850.2   520.5  293.6  217.2  383.5   \n",
       "\n",
       "     NOV    DEC  \n",
       "0  350.8   48.4  \n",
       "1  158.3  121.5  \n",
       "2  157.0   59.0  \n",
       "3   33.9    3.3  \n",
       "4   74.4    0.2  "
      ]
     },
     "execution_count": 16,
     "metadata": {},
     "output_type": "execute_result"
    }
   ],
   "source": [
    "# Seperating the data which we are gonna use for prediction.r\n",
    "x=data.iloc[:,1:14]\n",
    "x.head()"
   ]
  },
  {
   "cell_type": "code",
   "execution_count": 17,
   "metadata": {},
   "outputs": [
    {
     "data": {
      "text/plain": [
       "0      1\n",
       "1      1\n",
       "2      1\n",
       "3      1\n",
       "4      0\n",
       "      ..\n",
       "113    1\n",
       "114    0\n",
       "115    0\n",
       "116    0\n",
       "117    1\n",
       "Name: FLOODS, Length: 118, dtype: int64"
      ]
     },
     "execution_count": 17,
     "metadata": {},
     "output_type": "execute_result"
    }
   ],
   "source": [
    "# Now seperate the flood label from the dataset.\n",
    "y=data.iloc[:,-1]\n",
    "y"
   ]
  },
  {
   "cell_type": "markdown",
   "metadata": {},
   "source": [
    "# Plotting the Data\n"
   ]
  },
  {
   "cell_type": "code",
   "execution_count": 18,
   "metadata": {},
   "outputs": [
    {
     "data": {
      "image/png": "[encoded data removed]",
      "text/plain": [
       "<Figure size 432x288 with 4 Axes>"
      ]
     },
     "metadata": {
      "needs_background": "light"
     },
     "output_type": "display_data"
    }
   ],
   "source": [
    "import matplotlib.pyplot as plt   \n",
    "# sets the backend of matplotlib to the 'inline' backend. \n",
    "%matplotlib inline                   \n",
    "c = data[['JUN','JUL','AUG','SEP']]\n",
    "c.hist()\n",
    "plt.show()\n",
    "# How the rainfall index vary during rainy season"
   ]
  },
  {
   "cell_type": "code",
   "execution_count": 19,
   "metadata": {},
   "outputs": [
    {
     "data": {
      "text/plain": [
       "<matplotlib.pyplot._IoffContext at 0x228fee58040>"
      ]
     },
     "execution_count": 19,
     "metadata": {},
     "output_type": "execute_result"
    },
    {
     "data": {
      "image/png": "[encoded data removed]",
      "text/plain": [
       "<Figure size 1008x432 with 1 Axes>"
      ]
     },
     "metadata": {
      "needs_background": "light"
     },
     "output_type": "display_data"
    }
   ],
   "source": [
    "ax = data[['JAN', 'FEB', 'MAR', 'APR','MAY', 'JUN', 'AUG', 'SEP', 'OCT','NOV','DEC']].mean().plot.bar(width=0.5,edgecolor='k',align='center',linewidth=2,figsize=(14,6))\n",
    "plt.xlabel('Month',fontsize=30)\n",
    "plt.ylabel('Monthly Rainfall',fontsize=20)\n",
    "plt.title('Rainfall in Kerela for all Months',fontsize=25)\n",
    "ax.tick_params(labelsize=20)\n",
    "plt.grid()\n",
    "plt.ioff()"
   ]
  },
  {
   "cell_type": "markdown",
   "metadata": {},
   "source": [
    "# Using sklearn to develop the ML Model"
   ]
  },
  {
   "cell_type": "code",
   "execution_count": 20,
   "metadata": {},
   "outputs": [
    {
     "data": {
      "text/plain": [
       "array([[0.        , 0.34371257, 0.56582278, ..., 0.39727673, 0.95570189,\n",
       "        0.2388724 ],\n",
       "       [0.00854701, 0.08023952, 0.03291139, ..., 0.5804966 , 0.37952709,\n",
       "        0.60039565],\n",
       "       [0.01709402, 0.03832335, 0.23544304, ..., 0.57188626, 0.37563604,\n",
       "        0.29129575],\n",
       "       ...,\n",
       "       [0.98290598, 0.02874251, 0.04810127, ..., 0.31517821, 0.28105358,\n",
       "        0.11622156],\n",
       "       [0.99145299, 0.02275449, 0.08607595, ..., 0.24809772, 0.18258007,\n",
       "        0.18793274],\n",
       "       [1.        , 0.34850299, 0.65949367, ..., 0.57589107, 0.28105358,\n",
       "        0.3214639 ]])"
      ]
     },
     "execution_count": 20,
     "metadata": {},
     "output_type": "execute_result"
    }
   ],
   "source": [
    "# Scaling the data between 0 and 1.\n",
    "from sklearn import preprocessing\n",
    "minmax = preprocessing.MinMaxScaler(feature_range=(0,1))\n",
    "minmax.fit(x).transform(x)"
   ]
  },
  {
   "cell_type": "code",
   "execution_count": 21,
   "metadata": {},
   "outputs": [
    {
     "data": {
      "text/html": [
       "<div>\n",
       "<style scoped>\n",
       "    .dataframe tbody tr th:only-of-type {\n",
       "        vertical-align: middle;\n",
       "    }\n",
       "\n",
       "    .dataframe tbody tr th {\n",
       "        vertical-align: top;\n",
       "    }\n",
       "\n",
       "    .dataframe thead th {\n",
       "        text-align: right;\n",
       "    }\n",
       "</style>\n",
       "<table border=\"1\" class=\"dataframe\">\n",
       "  <thead>\n",
       "    <tr style=\"text-align: right;\">\n",
       "      <th></th>\n",
       "      <th>YEAR</th>\n",
       "      <th>JAN</th>\n",
       "      <th>FEB</th>\n",
       "      <th>MAR</th>\n",
       "      <th>APR</th>\n",
       "      <th>MAY</th>\n",
       "      <th>JUN</th>\n",
       "      <th>JUL</th>\n",
       "      <th>AUG</th>\n",
       "      <th>SEP</th>\n",
       "      <th>OCT</th>\n",
       "      <th>NOV</th>\n",
       "      <th>DEC</th>\n",
       "    </tr>\n",
       "  </thead>\n",
       "  <tbody>\n",
       "    <tr>\n",
       "      <th>116</th>\n",
       "      <td>2017</td>\n",
       "      <td>1.9</td>\n",
       "      <td>6.8</td>\n",
       "      <td>8.9</td>\n",
       "      <td>43.6</td>\n",
       "      <td>173.5</td>\n",
       "      <td>498.5</td>\n",
       "      <td>319.6</td>\n",
       "      <td>531.8</td>\n",
       "      <td>209.5</td>\n",
       "      <td>192.4</td>\n",
       "      <td>92.5</td>\n",
       "      <td>38.1</td>\n",
       "    </tr>\n",
       "    <tr>\n",
       "      <th>47</th>\n",
       "      <td>1948</td>\n",
       "      <td>43.0</td>\n",
       "      <td>8.3</td>\n",
       "      <td>48.2</td>\n",
       "      <td>125.0</td>\n",
       "      <td>212.3</td>\n",
       "      <td>910.2</td>\n",
       "      <td>619.0</td>\n",
       "      <td>487.9</td>\n",
       "      <td>166.6</td>\n",
       "      <td>183.9</td>\n",
       "      <td>215.6</td>\n",
       "      <td>19.2</td>\n",
       "    </tr>\n",
       "    <tr>\n",
       "      <th>105</th>\n",
       "      <td>2006</td>\n",
       "      <td>8.1</td>\n",
       "      <td>0.5</td>\n",
       "      <td>90.7</td>\n",
       "      <td>65.3</td>\n",
       "      <td>521.2</td>\n",
       "      <td>482.4</td>\n",
       "      <td>804.0</td>\n",
       "      <td>432.6</td>\n",
       "      <td>474.8</td>\n",
       "      <td>376.4</td>\n",
       "      <td>162.8</td>\n",
       "      <td>1.8</td>\n",
       "    </tr>\n",
       "    <tr>\n",
       "      <th>43</th>\n",
       "      <td>1944</td>\n",
       "      <td>6.4</td>\n",
       "      <td>26.6</td>\n",
       "      <td>61.6</td>\n",
       "      <td>61.6</td>\n",
       "      <td>212.7</td>\n",
       "      <td>498.9</td>\n",
       "      <td>614.1</td>\n",
       "      <td>230.7</td>\n",
       "      <td>155.0</td>\n",
       "      <td>289.0</td>\n",
       "      <td>244.1</td>\n",
       "      <td>89.2</td>\n",
       "    </tr>\n",
       "    <tr>\n",
       "      <th>62</th>\n",
       "      <td>1963</td>\n",
       "      <td>30.2</td>\n",
       "      <td>24.8</td>\n",
       "      <td>69.8</td>\n",
       "      <td>96.3</td>\n",
       "      <td>157.1</td>\n",
       "      <td>393.3</td>\n",
       "      <td>720.2</td>\n",
       "      <td>511.0</td>\n",
       "      <td>223.9</td>\n",
       "      <td>282.6</td>\n",
       "      <td>93.4</td>\n",
       "      <td>48.4</td>\n",
       "    </tr>\n",
       "  </tbody>\n",
       "</table>\n",
       "</div>"
      ],
      "text/plain": [
       "     YEAR   JAN   FEB   MAR    APR    MAY    JUN    JUL    AUG    SEP    OCT  \\\n",
       "116  2017   1.9   6.8   8.9   43.6  173.5  498.5  319.6  531.8  209.5  192.4   \n",
       "47   1948  43.0   8.3  48.2  125.0  212.3  910.2  619.0  487.9  166.6  183.9   \n",
       "105  2006   8.1   0.5  90.7   65.3  521.2  482.4  804.0  432.6  474.8  376.4   \n",
       "43   1944   6.4  26.6  61.6   61.6  212.7  498.9  614.1  230.7  155.0  289.0   \n",
       "62   1963  30.2  24.8  69.8   96.3  157.1  393.3  720.2  511.0  223.9  282.6   \n",
       "\n",
       "       NOV   DEC  \n",
       "116   92.5  38.1  \n",
       "47   215.6  19.2  \n",
       "105  162.8   1.8  \n",
       "43   244.1  89.2  \n",
       "62    93.4  48.4  "
      ]
     },
     "execution_count": 21,
     "metadata": {},
     "output_type": "execute_result"
    }
   ],
   "source": [
    "#dividing the dataset into training dataset and test dataset. \n",
    "from sklearn import model_selection,neighbors\n",
    "from sklearn.model_selection import train_test_split\n",
    "x_train,x_test,y_train,y_test=train_test_split(x,y,test_size=0.2)\n",
    "x_train.head()"
   ]
  },
  {
   "cell_type": "markdown",
   "metadata": {},
   "source": []
  },
  {
   "cell_type": "code",
   "execution_count": 23,
   "metadata": {},
   "outputs": [
    {
     "data": {
      "text/html": [
       "<div>\n",
       "<style scoped>\n",
       "    .dataframe tbody tr th:only-of-type {\n",
       "        vertical-align: middle;\n",
       "    }\n",
       "\n",
       "    .dataframe tbody tr th {\n",
       "        vertical-align: top;\n",
       "    }\n",
       "\n",
       "    .dataframe thead th {\n",
       "        text-align: right;\n",
       "    }\n",
       "</style>\n",
       "<table border=\"1\" class=\"dataframe\">\n",
       "  <thead>\n",
       "    <tr style=\"text-align: right;\">\n",
       "      <th></th>\n",
       "      <th>YEAR</th>\n",
       "      <th>JAN</th>\n",
       "      <th>FEB</th>\n",
       "      <th>MAR</th>\n",
       "      <th>APR</th>\n",
       "      <th>MAY</th>\n",
       "      <th>JUN</th>\n",
       "      <th>JUL</th>\n",
       "      <th>AUG</th>\n",
       "      <th>SEP</th>\n",
       "      <th>OCT</th>\n",
       "      <th>NOV</th>\n",
       "      <th>DEC</th>\n",
       "    </tr>\n",
       "  </thead>\n",
       "  <tbody>\n",
       "    <tr>\n",
       "      <th>12</th>\n",
       "      <td>1913</td>\n",
       "      <td>3.1</td>\n",
       "      <td>5.2</td>\n",
       "      <td>20.7</td>\n",
       "      <td>75.7</td>\n",
       "      <td>198.8</td>\n",
       "      <td>541.7</td>\n",
       "      <td>763.2</td>\n",
       "      <td>247.2</td>\n",
       "      <td>176.9</td>\n",
       "      <td>422.5</td>\n",
       "      <td>109.9</td>\n",
       "      <td>45.8</td>\n",
       "    </tr>\n",
       "    <tr>\n",
       "      <th>111</th>\n",
       "      <td>2012</td>\n",
       "      <td>7.4</td>\n",
       "      <td>11.0</td>\n",
       "      <td>21.0</td>\n",
       "      <td>171.1</td>\n",
       "      <td>95.3</td>\n",
       "      <td>430.3</td>\n",
       "      <td>362.6</td>\n",
       "      <td>501.6</td>\n",
       "      <td>241.1</td>\n",
       "      <td>187.5</td>\n",
       "      <td>112.9</td>\n",
       "      <td>9.4</td>\n",
       "    </tr>\n",
       "    <tr>\n",
       "      <th>101</th>\n",
       "      <td>2002</td>\n",
       "      <td>4.7</td>\n",
       "      <td>8.7</td>\n",
       "      <td>35.7</td>\n",
       "      <td>117.3</td>\n",
       "      <td>330.8</td>\n",
       "      <td>503.1</td>\n",
       "      <td>318.7</td>\n",
       "      <td>438.2</td>\n",
       "      <td>99.0</td>\n",
       "      <td>511.7</td>\n",
       "      <td>137.5</td>\n",
       "      <td>2.1</td>\n",
       "    </tr>\n",
       "    <tr>\n",
       "      <th>103</th>\n",
       "      <td>2004</td>\n",
       "      <td>2.4</td>\n",
       "      <td>8.1</td>\n",
       "      <td>37.9</td>\n",
       "      <td>113.2</td>\n",
       "      <td>610.9</td>\n",
       "      <td>673.4</td>\n",
       "      <td>385.4</td>\n",
       "      <td>417.9</td>\n",
       "      <td>192.8</td>\n",
       "      <td>320.6</td>\n",
       "      <td>120.7</td>\n",
       "      <td>2.7</td>\n",
       "    </tr>\n",
       "    <tr>\n",
       "      <th>91</th>\n",
       "      <td>1992</td>\n",
       "      <td>2.4</td>\n",
       "      <td>0.9</td>\n",
       "      <td>0.1</td>\n",
       "      <td>43.0</td>\n",
       "      <td>218.4</td>\n",
       "      <td>819.3</td>\n",
       "      <td>767.8</td>\n",
       "      <td>508.0</td>\n",
       "      <td>297.5</td>\n",
       "      <td>290.7</td>\n",
       "      <td>287.6</td>\n",
       "      <td>3.7</td>\n",
       "    </tr>\n",
       "  </tbody>\n",
       "</table>\n",
       "</div>"
      ],
      "text/plain": [
       "     YEAR  JAN   FEB   MAR    APR    MAY    JUN    JUL    AUG    SEP    OCT  \\\n",
       "12   1913  3.1   5.2  20.7   75.7  198.8  541.7  763.2  247.2  176.9  422.5   \n",
       "111  2012  7.4  11.0  21.0  171.1   95.3  430.3  362.6  501.6  241.1  187.5   \n",
       "101  2002  4.7   8.7  35.7  117.3  330.8  503.1  318.7  438.2   99.0  511.7   \n",
       "103  2004  2.4   8.1  37.9  113.2  610.9  673.4  385.4  417.9  192.8  320.6   \n",
       "91   1992  2.4   0.9   0.1   43.0  218.4  819.3  767.8  508.0  297.5  290.7   \n",
       "\n",
       "       NOV   DEC  \n",
       "12   109.9  45.8  \n",
       "111  112.9   9.4  \n",
       "101  137.5   2.1  \n",
       "103  120.7   2.7  \n",
       "91   287.6   3.7  "
      ]
     },
     "execution_count": 23,
     "metadata": {},
     "output_type": "execute_result"
    }
   ],
   "source": [
    "x_test.head()"
   ]
  },
  {
   "cell_type": "code",
   "execution_count": 24,
   "metadata": {},
   "outputs": [
    {
     "data": {
      "text/plain": [
       "116    0\n",
       "47     1\n",
       "105    1\n",
       "43     0\n",
       "62     0\n",
       "      ..\n",
       "28     1\n",
       "78     0\n",
       "64     0\n",
       "92     0\n",
       "5      0\n",
       "Name: FLOODS, Length: 94, dtype: int32"
      ]
     },
     "execution_count": 24,
     "metadata": {},
     "output_type": "execute_result"
    }
   ],
   "source": [
    "# type casting.\n",
    "y_train=y_train.astype('int')\n",
    "y_train"
   ]
  },
  {
   "cell_type": "code",
   "execution_count": 25,
   "metadata": {},
   "outputs": [
    {
     "data": {
      "text/plain": [
       "12     0\n",
       "111    0\n",
       "101    0\n",
       "103    0\n",
       "91     1\n",
       "109    1\n",
       "82     0\n",
       "45     1\n",
       "86     0\n",
       "108    0\n",
       "24     1\n",
       "36     0\n",
       "75     0\n",
       "112    1\n",
       "69     0\n",
       "38     1\n",
       "96     1\n",
       "102    0\n",
       "72     0\n",
       "87     0\n",
       "106    1\n",
       "115    0\n",
       "73     0\n",
       "74     1\n",
       "Name: FLOODS, dtype: int32"
      ]
     },
     "execution_count": 25,
     "metadata": {},
     "output_type": "execute_result"
    }
   ],
   "source": [
    "y_test=y_test.astype('int')\n",
    "y_test"
   ]
  },
  {
   "cell_type": "markdown",
   "metadata": {},
   "source": [
    "# Using Prediction Algorithms:"
   ]
  },
  {
   "cell_type": "markdown",
   "metadata": {},
   "source": [
    "## KNN classifier to predict"
   ]
  },
  {
   "cell_type": "code",
   "execution_count": 26,
   "metadata": {},
   "outputs": [
    {
     "data": {
      "text/plain": [
       "KNeighborsClassifier()"
      ]
     },
     "execution_count": 26,
     "metadata": {},
     "output_type": "execute_result"
    }
   ],
   "source": [
    "clf=neighbors.KNeighborsClassifier()\n",
    "clf.fit(x_train,y_train)"
   ]
  },
  {
   "cell_type": "code",
   "execution_count": 27,
   "metadata": {},
   "outputs": [
    {
     "name": "stdout",
     "output_type": "stream",
     "text": [
      "Predicted Values for the Floods:\n"
     ]
    },
    {
     "data": {
      "text/plain": [
       "array([0, 0, 0, 1, 1, 0, 0, 1, 0, 1, 1, 0, 0, 1, 0, 1, 1, 0, 0, 0, 1, 0,\n",
       "       0, 1])"
      ]
     },
     "execution_count": 27,
     "metadata": {},
     "output_type": "execute_result"
    }
   ],
   "source": [
    "# Predicted chance of Flood.\n",
    "print(\"Predicted Values for the Floods:\")\n",
    "y_predict=clf.predict(x_test)\n",
    "y_predict"
   ]
  },
  {
   "cell_type": "code",
   "execution_count": 28,
   "metadata": {},
   "outputs": [
    {
     "name": "stdout",
     "output_type": "stream",
     "text": [
      "Actual Values for the Floods:\n",
      "12     0\n",
      "111    0\n",
      "101    0\n",
      "103    0\n",
      "91     1\n",
      "109    1\n",
      "82     0\n",
      "45     1\n",
      "86     0\n",
      "108    0\n",
      "24     1\n",
      "36     0\n",
      "75     0\n",
      "112    1\n",
      "69     0\n",
      "38     1\n",
      "96     1\n",
      "102    0\n",
      "72     0\n",
      "87     0\n",
      "106    1\n",
      "115    0\n",
      "73     0\n",
      "74     1\n",
      "Name: FLOODS, dtype: int32\n"
     ]
    }
   ],
   "source": [
    "print(\"Actual Values for the Floods:\")\n",
    "print(y_test)"
   ]
  },
  {
   "cell_type": "code",
   "execution_count": 29,
   "metadata": {},
   "outputs": [
    {
     "name": "stdout",
     "output_type": "stream",
     "text": [
      "List of the Predicted Values:\n",
      "[0 0 0 1 1 0 0 1 0 1 1 0 0 1 0 1 1 0 0 0 1 0 0 1]\n"
     ]
    }
   ],
   "source": [
    "print(\"List of the Predicted Values:\")\n",
    "print(y_predict)"
   ]
  },
  {
   "cell_type": "code",
   "execution_count": 30,
   "metadata": {},
   "outputs": [],
   "source": [
    "# Scaling the dataset.\n",
    "from sklearn.model_selection import cross_val_score,cross_val_predict\n",
    "x_train_std= minmax.fit_transform(x_train)\n",
    "x_test_std= minmax.fit_transform(x_test)\n",
    "knn_acc=cross_val_score(clf,x_train_std,y_train,cv=3,scoring='accuracy',n_jobs=-1)\n",
    "knn_proba=cross_val_predict(clf,x_train_std,y_train,cv=3,method='predict_proba')"
   ]
  },
  {
   "cell_type": "code",
   "execution_count": 31,
   "metadata": {},
   "outputs": [
    {
     "data": {
      "text/plain": [
       "array([0.71875   , 0.74193548, 0.67741935])"
      ]
     },
     "execution_count": 31,
     "metadata": {},
     "output_type": "execute_result"
    }
   ],
   "source": [
    "knn_acc"
   ]
  },
  {
   "cell_type": "code",
   "execution_count": 32,
   "metadata": {},
   "outputs": [
    {
     "data": {
      "text/plain": [
       "array([[0.8, 0.2],\n",
       "       [0.2, 0.8],\n",
       "       [0.2, 0.8],\n",
       "       [1. , 0. ],\n",
       "       [0.6, 0.4],\n",
       "       [0.6, 0.4],\n",
       "       [0.8, 0.2],\n",
       "       [1. , 0. ],\n",
       "       [1. , 0. ],\n",
       "       [0.6, 0.4],\n",
       "       [0.4, 0.6],\n",
       "       [0.8, 0.2],\n",
       "       [0. , 1. ],\n",
       "       [0. , 1. ],\n",
       "       [0.8, 0.2],\n",
       "       [1. , 0. ],\n",
       "       [0.6, 0.4],\n",
       "       [0.4, 0.6],\n",
       "       [0.4, 0.6],\n",
       "       [0.8, 0.2],\n",
       "       [0.6, 0.4],\n",
       "       [1. , 0. ],\n",
       "       [0.2, 0.8],\n",
       "       [0.4, 0.6],\n",
       "       [0.4, 0.6],\n",
       "       [0.2, 0.8],\n",
       "       [0.4, 0.6],\n",
       "       [0.8, 0.2],\n",
       "       [0.2, 0.8],\n",
       "       [0.6, 0.4],\n",
       "       [0.4, 0.6],\n",
       "       [0. , 1. ],\n",
       "       [0.4, 0.6],\n",
       "       [0.6, 0.4],\n",
       "       [0.8, 0.2],\n",
       "       [0. , 1. ],\n",
       "       [0.2, 0.8],\n",
       "       [0.8, 0.2],\n",
       "       [0.4, 0.6],\n",
       "       [0.6, 0.4],\n",
       "       [0. , 1. ],\n",
       "       [0.4, 0.6],\n",
       "       [0. , 1. ],\n",
       "       [0.6, 0.4],\n",
       "       [0.2, 0.8],\n",
       "       [1. , 0. ],\n",
       "       [1. , 0. ],\n",
       "       [0.4, 0.6],\n",
       "       [0.2, 0.8],\n",
       "       [0.4, 0.6],\n",
       "       [0. , 1. ],\n",
       "       [1. , 0. ],\n",
       "       [0.8, 0.2],\n",
       "       [0.4, 0.6],\n",
       "       [0. , 1. ],\n",
       "       [0.6, 0.4],\n",
       "       [0.6, 0.4],\n",
       "       [0.2, 0.8],\n",
       "       [0.6, 0.4],\n",
       "       [0.2, 0.8],\n",
       "       [0.2, 0.8],\n",
       "       [0.8, 0.2],\n",
       "       [0.6, 0.4],\n",
       "       [0.4, 0.6],\n",
       "       [0.4, 0.6],\n",
       "       [0.4, 0.6],\n",
       "       [0.4, 0.6],\n",
       "       [0.4, 0.6],\n",
       "       [1. , 0. ],\n",
       "       [0.4, 0.6],\n",
       "       [0.8, 0.2],\n",
       "       [1. , 0. ],\n",
       "       [1. , 0. ],\n",
       "       [0.6, 0.4],\n",
       "       [1. , 0. ],\n",
       "       [0.6, 0.4],\n",
       "       [0.6, 0.4],\n",
       "       [0.8, 0.2],\n",
       "       [0.8, 0.2],\n",
       "       [0.4, 0.6],\n",
       "       [0.4, 0.6],\n",
       "       [0.6, 0.4],\n",
       "       [0.4, 0.6],\n",
       "       [0.6, 0.4],\n",
       "       [0.8, 0.2],\n",
       "       [0. , 1. ],\n",
       "       [0.4, 0.6],\n",
       "       [0.6, 0.4],\n",
       "       [0.6, 0.4],\n",
       "       [0.4, 0.6],\n",
       "       [0.8, 0.2],\n",
       "       [0.8, 0.2],\n",
       "       [0.6, 0.4],\n",
       "       [0.6, 0.4]])"
      ]
     },
     "execution_count": 32,
     "metadata": {},
     "output_type": "execute_result"
    }
   ],
   "source": [
    "knn_proba"
   ]
  },
  {
   "cell_type": "markdown",
   "metadata": {},
   "source": [
    "### How accurate is our model?"
   ]
  },
  {
   "cell_type": "code",
   "execution_count": 33,
   "metadata": {},
   "outputs": [
    {
     "name": "stdout",
     "output_type": "stream",
     "text": [
      "\n",
      "Accuracy Score:87.500000\n",
      "Recall Score:88.888889\n",
      "ROC score:87.777778\n",
      "[[13  2]\n",
      " [ 1  8]]\n"
     ]
    }
   ],
   "source": [
    "from sklearn.metrics import accuracy_score,recall_score,roc_auc_score,confusion_matrix\n",
    "print(\"\\nAccuracy Score:%f\"%(accuracy_score(y_test,y_predict)*100))\n",
    "print(\"Recall Score:%f\"%(recall_score(y_test,y_predict)*100))\n",
    "print(\"ROC score:%f\"%(roc_auc_score(y_test,y_predict)*100))\n",
    "print(confusion_matrix(y_test,y_predict))"
   ]
  },
  {
   "cell_type": "markdown",
   "metadata": {},
   "source": [
    "## Logistic Regression to predict"
   ]
  },
  {
   "cell_type": "code",
   "execution_count": 34,
   "metadata": {},
   "outputs": [],
   "source": [
    "x_train_std=minmax.fit_transform(x_train)         # fit the values in between 0 and 1.\n",
    "y_train_std=minmax.transform(x_test)\n",
    "\n",
    "from sklearn.model_selection import cross_val_score,cross_val_predict\n",
    "from sklearn.linear_model import LogisticRegression\n",
    "lr=LogisticRegression()\n",
    "lr.fit(x_train,y_train)\n",
    "lr_acc=cross_val_score(lr,x_train_std,y_train,cv=3,scoring='accuracy',n_jobs=-1)\n",
    "lr_proba=cross_val_predict(lr,x_train_std,y_train,cv=3,method='predict_proba')"
   ]
  },
  {
   "cell_type": "code",
   "execution_count": 35,
   "metadata": {},
   "outputs": [
    {
     "data": {
      "text/plain": [
       "array([0.84375   , 0.67741935, 0.96774194])"
      ]
     },
     "execution_count": 35,
     "metadata": {},
     "output_type": "execute_result"
    }
   ],
   "source": [
    "lr_acc"
   ]
  },
  {
   "cell_type": "code",
   "execution_count": 36,
   "metadata": {},
   "outputs": [
    {
     "data": {
      "text/plain": [
       "array([[0.70002778, 0.29997222],\n",
       "       [0.33263905, 0.66736095],\n",
       "       [0.23500878, 0.76499122],\n",
       "       [0.62777158, 0.37222842],\n",
       "       [0.63376961, 0.36623039],\n",
       "       [0.45705828, 0.54294172],\n",
       "       [0.34178715, 0.65821285],\n",
       "       [0.64458638, 0.35541362],\n",
       "       [0.44536233, 0.55463767],\n",
       "       [0.54131795, 0.45868205],\n",
       "       [0.43141635, 0.56858365],\n",
       "       [0.66203098, 0.33796902],\n",
       "       [0.32996247, 0.67003753],\n",
       "       [0.09454182, 0.90545818],\n",
       "       [0.36647097, 0.63352903],\n",
       "       [0.75028657, 0.24971343],\n",
       "       [0.32720562, 0.67279438],\n",
       "       [0.41472247, 0.58527753],\n",
       "       [0.32686127, 0.67313873],\n",
       "       [0.56572214, 0.43427786],\n",
       "       [0.44050928, 0.55949072],\n",
       "       [0.74217827, 0.25782173],\n",
       "       [0.18768484, 0.81231516],\n",
       "       [0.50734107, 0.49265893],\n",
       "       [0.43547505, 0.56452495],\n",
       "       [0.45224466, 0.54775534],\n",
       "       [0.26921275, 0.73078725],\n",
       "       [0.52696456, 0.47303544],\n",
       "       [0.36340976, 0.63659024],\n",
       "       [0.53006203, 0.46993797],\n",
       "       [0.24483644, 0.75516356],\n",
       "       [0.49501191, 0.50498809],\n",
       "       [0.45135943, 0.54864057],\n",
       "       [0.42700232, 0.57299768],\n",
       "       [0.47787621, 0.52212379],\n",
       "       [0.19012272, 0.80987728],\n",
       "       [0.44490002, 0.55509998],\n",
       "       [0.62742846, 0.37257154],\n",
       "       [0.18083909, 0.81916091],\n",
       "       [0.48246593, 0.51753407],\n",
       "       [0.08871331, 0.91128669],\n",
       "       [0.28425439, 0.71574561],\n",
       "       [0.2902123 , 0.7097877 ],\n",
       "       [0.49832766, 0.50167234],\n",
       "       [0.34849118, 0.65150882],\n",
       "       [0.41813777, 0.58186223],\n",
       "       [0.56574328, 0.43425672],\n",
       "       [0.30800439, 0.69199561],\n",
       "       [0.29471906, 0.70528094],\n",
       "       [0.46687316, 0.53312684],\n",
       "       [0.21753034, 0.78246966],\n",
       "       [0.56886599, 0.43113401],\n",
       "       [0.28007373, 0.71992627],\n",
       "       [0.32139131, 0.67860869],\n",
       "       [0.33633755, 0.66366245],\n",
       "       [0.53998446, 0.46001554],\n",
       "       [0.48643394, 0.51356606],\n",
       "       [0.28776536, 0.71223464],\n",
       "       [0.52858682, 0.47141318],\n",
       "       [0.32865715, 0.67134285],\n",
       "       [0.39502103, 0.60497897],\n",
       "       [0.53866323, 0.46133677],\n",
       "       [0.49653158, 0.50346842],\n",
       "       [0.44740977, 0.55259023],\n",
       "       [0.28279717, 0.71720283],\n",
       "       [0.40184169, 0.59815831],\n",
       "       [0.32744839, 0.67255161],\n",
       "       [0.63845186, 0.36154814],\n",
       "       [0.72221289, 0.27778711],\n",
       "       [0.37516178, 0.62483822],\n",
       "       [0.61677867, 0.38322133],\n",
       "       [0.64509352, 0.35490648],\n",
       "       [0.73873531, 0.26126469],\n",
       "       [0.32534359, 0.67465641],\n",
       "       [0.56398606, 0.43601394],\n",
       "       [0.38447721, 0.61552279],\n",
       "       [0.42450975, 0.57549025],\n",
       "       [0.71362963, 0.28637037],\n",
       "       [0.52433731, 0.47566269],\n",
       "       [0.39849682, 0.60150318],\n",
       "       [0.24377501, 0.75622499],\n",
       "       [0.43842314, 0.56157686],\n",
       "       [0.58621321, 0.41378679],\n",
       "       [0.4990949 , 0.5009051 ],\n",
       "       [0.57792616, 0.42207384],\n",
       "       [0.1174323 , 0.8825677 ],\n",
       "       [0.35712349, 0.64287651],\n",
       "       [0.41963972, 0.58036028],\n",
       "       [0.63592267, 0.36407733],\n",
       "       [0.32143228, 0.67856772],\n",
       "       [0.6459961 , 0.3540039 ],\n",
       "       [0.6510053 , 0.3489947 ],\n",
       "       [0.70027663, 0.29972337],\n",
       "       [0.53999718, 0.46000282]])"
      ]
     },
     "execution_count": 36,
     "metadata": {},
     "output_type": "execute_result"
    }
   ],
   "source": [
    "lr_proba"
   ]
  },
  {
   "cell_type": "code",
   "execution_count": 37,
   "metadata": {},
   "outputs": [
    {
     "data": {
      "text/plain": [
       "array([0, 0, 0, 0, 1, 1, 0, 1, 0, 0, 1, 0, 0, 1, 0, 0, 1, 0, 0, 0, 1, 0,\n",
       "       0, 1])"
      ]
     },
     "execution_count": 37,
     "metadata": {},
     "output_type": "execute_result"
    }
   ],
   "source": [
    "y_pred=lr.predict(x_test)\n",
    "y_pred"
   ]
  },
  {
   "cell_type": "code",
   "execution_count": 38,
   "metadata": {},
   "outputs": [
    {
     "name": "stdout",
     "output_type": "stream",
     "text": [
      "[0 0 0 0 1 1 0 1 0 0 1 0 0 1 0 1 1 0 0 0 1 0 0 1]\n"
     ]
    }
   ],
   "source": [
    "print(y_test.values)"
   ]
  },
  {
   "cell_type": "code",
   "execution_count": 39,
   "metadata": {},
   "outputs": [
    {
     "name": "stdout",
     "output_type": "stream",
     "text": [
      "List of the Predicted Values:\n",
      "[0 0 0 0 1 1 0 1 0 0 1 0 0 1 0 0 1 0 0 0 1 0 0 1]\n"
     ]
    }
   ],
   "source": [
    "print(\"List of the Predicted Values:\")\n",
    "print(y_pred)"
   ]
  },
  {
   "cell_type": "markdown",
   "metadata": {},
   "source": [
    "### Accuracy and Efficiency of our Model "
   ]
  },
  {
   "cell_type": "code",
   "execution_count": 40,
   "metadata": {},
   "outputs": [
    {
     "name": "stdout",
     "output_type": "stream",
     "text": [
      "\n",
      "accuracy score:95.833333\n",
      "recall score:88.888889\n",
      "roc score:94.444444\n",
      "[[15  0]\n",
      " [ 1  8]]\n"
     ]
    }
   ],
   "source": [
    "from sklearn.metrics import accuracy_score,recall_score,roc_auc_score,confusion_matrix\n",
    "print(\"\\naccuracy score:%f\"%(accuracy_score(y_test,y_pred)*100))\n",
    "print(\"recall score:%f\"%(recall_score(y_test,y_pred)*100))\n",
    "print(\"roc score:%f\"%(roc_auc_score(y_test,y_pred)*100))\n",
    "print(confusion_matrix(y_test,y_pred))"
   ]
  },
  {
   "cell_type": "markdown",
   "metadata": {},
   "source": [
    "## Support Vector Classification to predict"
   ]
  },
  {
   "cell_type": "code",
   "execution_count": 41,
   "metadata": {},
   "outputs": [],
   "source": [
    "from sklearn.svm import SVC\n",
    "svc=SVC(kernel='rbf',probability=True)\n",
    "svc_classifier=svc.fit(x_train,y_train)\n",
    "svc_acc=cross_val_score(svc_classifier,x_train_std,y_train,cv=3,scoring=\"accuracy\",n_jobs=-1)\n",
    "svc_proba=cross_val_predict(svc_classifier,x_train_std,y_train,cv=3,method='predict_proba')"
   ]
  },
  {
   "cell_type": "code",
   "execution_count": 42,
   "metadata": {},
   "outputs": [
    {
     "data": {
      "text/plain": [
       "array([0.8125    , 0.77419355, 0.90322581])"
      ]
     },
     "execution_count": 42,
     "metadata": {},
     "output_type": "execute_result"
    }
   ],
   "source": [
    "svc_acc"
   ]
  },
  {
   "cell_type": "code",
   "execution_count": 43,
   "metadata": {},
   "outputs": [
    {
     "data": {
      "text/plain": [
       "array([[0.90816305, 0.09183695],\n",
       "       [0.10424708, 0.89575292],\n",
       "       [0.07228301, 0.92771699],\n",
       "       [0.94238203, 0.05761797],\n",
       "       [0.94130257, 0.05869743],\n",
       "       [0.35620612, 0.64379388],\n",
       "       [0.21397274, 0.78602726],\n",
       "       [0.95225456, 0.04774544],\n",
       "       [0.58138441, 0.41861559],\n",
       "       [0.74806951, 0.25193049],\n",
       "       [0.27614069, 0.72385931],\n",
       "       [0.92123643, 0.07876357],\n",
       "       [0.16748395, 0.83251605],\n",
       "       [0.00407117, 0.99592883],\n",
       "       [0.58077306, 0.41922694],\n",
       "       [0.97894851, 0.02105149],\n",
       "       [0.13813664, 0.86186336],\n",
       "       [0.30198925, 0.69801075],\n",
       "       [0.15631129, 0.84368871],\n",
       "       [0.62448971, 0.37551029],\n",
       "       [0.51228428, 0.48771572],\n",
       "       [0.9585622 , 0.0414378 ],\n",
       "       [0.01124852, 0.98875148],\n",
       "       [0.64135515, 0.35864485],\n",
       "       [0.31137169, 0.68862831],\n",
       "       [0.35260649, 0.64739351],\n",
       "       [0.04834027, 0.95165973],\n",
       "       [0.81926918, 0.18073082],\n",
       "       [0.12513109, 0.87486891],\n",
       "       [0.70851028, 0.29148972],\n",
       "       [0.14737935, 0.85262065],\n",
       "       [0.33367799, 0.66632201],\n",
       "       [0.34596217, 0.65403783],\n",
       "       [0.42933622, 0.57066378],\n",
       "       [0.55812439, 0.44187561],\n",
       "       [0.00993447, 0.99006553],\n",
       "       [0.16260977, 0.83739023],\n",
       "       [0.92493352, 0.07506648],\n",
       "       [0.0586904 , 0.9413096 ],\n",
       "       [0.53872599, 0.46127401],\n",
       "       [0.00269189, 0.99730811],\n",
       "       [0.13911655, 0.86088345],\n",
       "       [0.01655617, 0.98344383],\n",
       "       [0.70596779, 0.29403221],\n",
       "       [0.17108027, 0.82891973],\n",
       "       [0.41549035, 0.58450965],\n",
       "       [0.80750305, 0.19249695],\n",
       "       [0.16771564, 0.83228436],\n",
       "       [0.04255035, 0.95744965],\n",
       "       [0.31877609, 0.68122391],\n",
       "       [0.01402226, 0.98597774],\n",
       "       [0.82330279, 0.17669721],\n",
       "       [0.16311275, 0.83688725],\n",
       "       [0.14309321, 0.85690679],\n",
       "       [0.0865963 , 0.9134037 ],\n",
       "       [0.46442312, 0.53557688],\n",
       "       [0.66768156, 0.33231844],\n",
       "       [0.09370435, 0.90629565],\n",
       "       [0.8502017 , 0.1497983 ],\n",
       "       [0.12375373, 0.87624627],\n",
       "       [0.09974379, 0.90025621],\n",
       "       [0.75168201, 0.24831799],\n",
       "       [0.37024   , 0.62976   ],\n",
       "       [0.38128973, 0.61871027],\n",
       "       [0.09168112, 0.90831888],\n",
       "       [0.3727342 , 0.6272658 ],\n",
       "       [0.05129733, 0.94870267],\n",
       "       [0.52121918, 0.47878082],\n",
       "       [0.8651367 , 0.1348633 ],\n",
       "       [0.15451831, 0.84548169],\n",
       "       [0.96037282, 0.03962718],\n",
       "       [0.97940064, 0.02059936],\n",
       "       [0.96663558, 0.03336442],\n",
       "       [0.11629364, 0.88370636],\n",
       "       [0.93870009, 0.06129991],\n",
       "       [0.31712194, 0.68287806],\n",
       "       [0.33749589, 0.66250411],\n",
       "       [0.96895545, 0.03104455],\n",
       "       [0.56339667, 0.43660333],\n",
       "       [0.24895857, 0.75104143],\n",
       "       [0.10163762, 0.89836238],\n",
       "       [0.4649235 , 0.5350765 ],\n",
       "       [0.80524261, 0.19475739],\n",
       "       [0.54063423, 0.45936577],\n",
       "       [0.55788491, 0.44211509],\n",
       "       [0.01004086, 0.98995914],\n",
       "       [0.14224496, 0.85775504],\n",
       "       [0.31443732, 0.68556268],\n",
       "       [0.41182259, 0.58817741],\n",
       "       [0.19109014, 0.80890986],\n",
       "       [0.79300252, 0.20699748],\n",
       "       [0.77404472, 0.22595528],\n",
       "       [0.96467422, 0.03532578],\n",
       "       [0.76720175, 0.23279825]])"
      ]
     },
     "execution_count": 43,
     "metadata": {},
     "output_type": "execute_result"
    }
   ],
   "source": [
    "svc_proba"
   ]
  },
  {
   "cell_type": "code",
   "execution_count": 44,
   "metadata": {},
   "outputs": [
    {
     "data": {
      "text/plain": [
       "array([0.09183695, 0.89575292, 0.92771699, 0.05761797, 0.05869743,\n",
       "       0.64379388, 0.78602726, 0.04774544, 0.41861559, 0.25193049,\n",
       "       0.72385931, 0.07876357, 0.83251605, 0.99592883, 0.41922694,\n",
       "       0.02105149, 0.86186336, 0.69801075, 0.84368871, 0.37551029,\n",
       "       0.48771572, 0.0414378 , 0.98875148, 0.35864485, 0.68862831,\n",
       "       0.64739351, 0.95165973, 0.18073082, 0.87486891, 0.29148972,\n",
       "       0.85262065, 0.66632201, 0.65403783, 0.57066378, 0.44187561,\n",
       "       0.99006553, 0.83739023, 0.07506648, 0.9413096 , 0.46127401,\n",
       "       0.99730811, 0.86088345, 0.98344383, 0.29403221, 0.82891973,\n",
       "       0.58450965, 0.19249695, 0.83228436, 0.95744965, 0.68122391,\n",
       "       0.98597774, 0.17669721, 0.83688725, 0.85690679, 0.9134037 ,\n",
       "       0.53557688, 0.33231844, 0.90629565, 0.1497983 , 0.87624627,\n",
       "       0.90025621, 0.24831799, 0.62976   , 0.61871027, 0.90831888,\n",
       "       0.6272658 , 0.94870267, 0.47878082, 0.1348633 , 0.84548169,\n",
       "       0.03962718, 0.02059936, 0.03336442, 0.88370636, 0.06129991,\n",
       "       0.68287806, 0.66250411, 0.03104455, 0.43660333, 0.75104143,\n",
       "       0.89836238, 0.5350765 , 0.19475739, 0.45936577, 0.44211509,\n",
       "       0.98995914, 0.85775504, 0.68556268, 0.58817741, 0.80890986,\n",
       "       0.20699748, 0.22595528, 0.03532578, 0.23279825])"
      ]
     },
     "execution_count": 44,
     "metadata": {},
     "output_type": "execute_result"
    }
   ],
   "source": [
    "svc_scores=svc_proba[:,1]\n",
    "svc_scores"
   ]
  },
  {
   "cell_type": "code",
   "execution_count": 45,
   "metadata": {},
   "outputs": [
    {
     "name": "stdout",
     "output_type": "stream",
     "text": [
      "Actual Flood Values:\n",
      "[0 0 0 0 1 1 0 1 0 0 1 0 0 1 0 1 1 0 0 0 1 0 0 1]\n"
     ]
    }
   ],
   "source": [
    "y_pred=svc_classifier.predict(x_test)\n",
    "print(\"Actual Flood Values:\")\n",
    "print(y_test.values)"
   ]
  },
  {
   "cell_type": "code",
   "execution_count": 46,
   "metadata": {},
   "outputs": [
    {
     "name": "stdout",
     "output_type": "stream",
     "text": [
      "Predicted Flood Values:\n",
      "[0 0 0 1 1 1 0 1 0 1 1 0 0 1 0 0 1 0 0 0 1 0 1 1]\n"
     ]
    }
   ],
   "source": [
    "print(\"Predicted Flood Values:\")\n",
    "print(y_pred)"
   ]
  },
  {
   "cell_type": "markdown",
   "metadata": {},
   "source": [
    "### Accuracy of our model"
   ]
  },
  {
   "cell_type": "code",
   "execution_count": 47,
   "metadata": {},
   "outputs": [
    {
     "name": "stdout",
     "output_type": "stream",
     "text": [
      "\n",
      "accuracy score:83.333333\n",
      "recall score:88.888889\n",
      "roc score:84.444444\n",
      "[[12  3]\n",
      " [ 1  8]]\n"
     ]
    }
   ],
   "source": [
    "from sklearn.metrics import accuracy_score,recall_score,roc_auc_score,confusion_matrix\n",
    "print(\"\\naccuracy score:%f\"%(accuracy_score(y_test,y_pred)*100))\n",
    "print(\"recall score:%f\"%(recall_score(y_test,y_pred)*100))\n",
    "print(\"roc score:%f\"%(roc_auc_score(y_test,y_pred)*100))\n",
    "print(confusion_matrix(y_test,y_pred))"
   ]
  },
  {
   "cell_type": "markdown",
   "metadata": {},
   "source": [
    "# Decision Tree Classification to Predict"
   ]
  },
  {
   "cell_type": "code",
   "execution_count": 48,
   "metadata": {},
   "outputs": [
    {
     "data": {
      "text/plain": [
       "array([0.46875   , 0.74193548, 0.64516129])"
      ]
     },
     "execution_count": 48,
     "metadata": {},
     "output_type": "execute_result"
    }
   ],
   "source": [
    "from sklearn.tree import DecisionTreeClassifier\n",
    "dtc_clf=DecisionTreeClassifier()\n",
    "dtc_clf.fit(x_train,y_train)\n",
    "dtc_clf_acc=cross_val_score(dtc_clf,x_train_std,y_train,cv=3,scoring=\"accuracy\",n_jobs=-1)\n",
    "dtc_clf_acc"
   ]
  },
  {
   "cell_type": "code",
   "execution_count": 49,
   "metadata": {},
   "outputs": [
    {
     "name": "stdout",
     "output_type": "stream",
     "text": [
      "Predicted Values:\n"
     ]
    },
    {
     "data": {
      "text/plain": [
       "array([0, 0, 0, 0, 1, 0, 1, 1, 1, 1, 1, 0, 0, 1, 0, 1, 1, 0, 0, 1, 1, 0,\n",
       "       1, 1])"
      ]
     },
     "execution_count": 49,
     "metadata": {},
     "output_type": "execute_result"
    }
   ],
   "source": [
    "print(\"Predicted Values:\")\n",
    "y_pred=dtc_clf.predict(x_test)\n",
    "y_pred"
   ]
  },
  {
   "cell_type": "code",
   "execution_count": 50,
   "metadata": {},
   "outputs": [
    {
     "name": "stdout",
     "output_type": "stream",
     "text": [
      "Actual Values:\n",
      "[0 0 0 0 1 1 0 1 0 0 1 0 0 1 0 1 1 0 0 0 1 0 0 1]\n"
     ]
    }
   ],
   "source": [
    "print(\"Actual Values:\")\n",
    "print(y_test.values)"
   ]
  },
  {
   "cell_type": "markdown",
   "metadata": {},
   "source": [
    "### Printing the Accuracy"
   ]
  },
  {
   "cell_type": "code",
   "execution_count": 51,
   "metadata": {},
   "outputs": [
    {
     "name": "stdout",
     "output_type": "stream",
     "text": [
      "\n",
      "accuracy score:75.000000\n",
      "recall score:88.888889\n",
      "roc score:77.777778\n",
      "[[10  5]\n",
      " [ 1  8]]\n"
     ]
    }
   ],
   "source": [
    "from sklearn.metrics import accuracy_score,recall_score,roc_auc_score,confusion_matrix\n",
    "print(\"\\naccuracy score:%f\"%(accuracy_score(y_test,y_pred)*100))\n",
    "print(\"recall score:%f\"%(recall_score(y_test,y_pred)*100))\n",
    "print(\"roc score:%f\"%(roc_auc_score(y_test,y_pred)*100))\n",
    "print(confusion_matrix(y_test,y_pred))"
   ]
  },
  {
   "cell_type": "markdown",
   "metadata": {},
   "source": [
    "# Random Forest Classifier to predict"
   ]
  },
  {
   "cell_type": "code",
   "execution_count": 52,
   "metadata": {},
   "outputs": [
    {
     "data": {
      "text/plain": [
       "RandomForestClassifier(max_depth=3, random_state=0)"
      ]
     },
     "execution_count": 52,
     "metadata": {},
     "output_type": "execute_result"
    }
   ],
   "source": [
    "from sklearn.ensemble import RandomForestClassifier\n",
    "rmf=RandomForestClassifier(max_depth=3,random_state=0)\n",
    "rmf_clf=rmf.fit(x_train,y_train)\n",
    "rmf_clf"
   ]
  },
  {
   "cell_type": "code",
   "execution_count": 53,
   "metadata": {},
   "outputs": [],
   "source": [
    "rmf_clf_acc=cross_val_score(rmf_clf,x_train_std,y_train,cv=3,scoring=\"accuracy\",n_jobs=-1)\n",
    "rmf_proba=cross_val_predict(rmf_clf,x_train_std,y_train,cv=3,method='predict_proba')"
   ]
  },
  {
   "cell_type": "code",
   "execution_count": 54,
   "metadata": {},
   "outputs": [
    {
     "data": {
      "text/plain": [
       "array([0.71875   , 0.64516129, 0.90322581])"
      ]
     },
     "execution_count": 54,
     "metadata": {},
     "output_type": "execute_result"
    }
   ],
   "source": [
    "rmf_clf_acc"
   ]
  },
  {
   "cell_type": "code",
   "execution_count": 55,
   "metadata": {},
   "outputs": [
    {
     "data": {
      "text/plain": [
       "array([[0.71978667, 0.28021333],\n",
       "       [0.20692151, 0.79307849],\n",
       "       [0.4093732 , 0.5906268 ],\n",
       "       [0.57295864, 0.42704136],\n",
       "       [0.5549702 , 0.4450298 ],\n",
       "       [0.53985961, 0.46014039],\n",
       "       [0.38738341, 0.61261659],\n",
       "       [0.74330288, 0.25669712],\n",
       "       [0.47139385, 0.52860615],\n",
       "       [0.37227452, 0.62772548],\n",
       "       [0.42856619, 0.57143381],\n",
       "       [0.61658984, 0.38341016],\n",
       "       [0.40593776, 0.59406224],\n",
       "       [0.15880592, 0.84119408],\n",
       "       [0.56926213, 0.43073787],\n",
       "       [0.62902182, 0.37097818],\n",
       "       [0.41804678, 0.58195322],\n",
       "       [0.50741919, 0.49258081],\n",
       "       [0.35032169, 0.64967831],\n",
       "       [0.48659352, 0.51340648],\n",
       "       [0.34247381, 0.65752619],\n",
       "       [0.69404437, 0.30595563],\n",
       "       [0.16353936, 0.83646064],\n",
       "       [0.48393143, 0.51606857],\n",
       "       [0.3276494 , 0.6723506 ],\n",
       "       [0.50439515, 0.49560485],\n",
       "       [0.2950156 , 0.7049844 ],\n",
       "       [0.64042307, 0.35957693],\n",
       "       [0.33440641, 0.66559359],\n",
       "       [0.4143237 , 0.5856763 ],\n",
       "       [0.39356895, 0.60643105],\n",
       "       [0.48134699, 0.51865301],\n",
       "       [0.66188857, 0.33811143],\n",
       "       [0.47758089, 0.52241911],\n",
       "       [0.434619  , 0.565381  ],\n",
       "       [0.17888467, 0.82111533],\n",
       "       [0.48970174, 0.51029826],\n",
       "       [0.70877172, 0.29122828],\n",
       "       [0.21633747, 0.78366253],\n",
       "       [0.36171477, 0.63828523],\n",
       "       [0.12863672, 0.87136328],\n",
       "       [0.44154009, 0.55845991],\n",
       "       [0.1286964 , 0.8713036 ],\n",
       "       [0.60567301, 0.39432699],\n",
       "       [0.31397445, 0.68602555],\n",
       "       [0.36220506, 0.63779494],\n",
       "       [0.59085187, 0.40914813],\n",
       "       [0.33343575, 0.66656425],\n",
       "       [0.22546514, 0.77453486],\n",
       "       [0.38454523, 0.61545477],\n",
       "       [0.3464921 , 0.6535079 ],\n",
       "       [0.48068716, 0.51931284],\n",
       "       [0.28769216, 0.71230784],\n",
       "       [0.32549622, 0.67450378],\n",
       "       [0.32860476, 0.67139524],\n",
       "       [0.42498402, 0.57501598],\n",
       "       [0.42987971, 0.57012029],\n",
       "       [0.43545454, 0.56454546],\n",
       "       [0.52635313, 0.47364687],\n",
       "       [0.3845331 , 0.6154669 ],\n",
       "       [0.51500063, 0.48499937],\n",
       "       [0.53198595, 0.46801405],\n",
       "       [0.32149899, 0.67850101],\n",
       "       [0.45744213, 0.54255787],\n",
       "       [0.34253782, 0.65746218],\n",
       "       [0.39327123, 0.60672877],\n",
       "       [0.25182575, 0.74817425],\n",
       "       [0.54827947, 0.45172053],\n",
       "       [0.65361968, 0.34638032],\n",
       "       [0.48578981, 0.51421019],\n",
       "       [0.55911826, 0.44088174],\n",
       "       [0.66261974, 0.33738026],\n",
       "       [0.7703397 , 0.2296603 ],\n",
       "       [0.26392335, 0.73607665],\n",
       "       [0.56283881, 0.43716119],\n",
       "       [0.38437815, 0.61562185],\n",
       "       [0.46200122, 0.53799878],\n",
       "       [0.51381828, 0.48618172],\n",
       "       [0.48670576, 0.51329424],\n",
       "       [0.5034756 , 0.4965244 ],\n",
       "       [0.23615661, 0.76384339],\n",
       "       [0.3795062 , 0.6204938 ],\n",
       "       [0.59781716, 0.40218284],\n",
       "       [0.48688795, 0.51311205],\n",
       "       [0.49602237, 0.50397763],\n",
       "       [0.17740126, 0.82259874],\n",
       "       [0.29422106, 0.70577894],\n",
       "       [0.52670769, 0.47329231],\n",
       "       [0.68254658, 0.31745342],\n",
       "       [0.37224265, 0.62775735],\n",
       "       [0.71249273, 0.28750727],\n",
       "       [0.65994549, 0.34005451],\n",
       "       [0.63416976, 0.36583024],\n",
       "       [0.54565884, 0.45434116]])"
      ]
     },
     "execution_count": 55,
     "metadata": {},
     "output_type": "execute_result"
    }
   ],
   "source": [
    "rmf_proba"
   ]
  },
  {
   "cell_type": "code",
   "execution_count": 56,
   "metadata": {},
   "outputs": [
    {
     "name": "stdout",
     "output_type": "stream",
     "text": [
      "\n",
      "accuracy score:75.000000\n",
      "recall score:88.888889\n",
      "roc score:77.777778\n",
      "[[10  5]\n",
      " [ 1  8]]\n"
     ]
    }
   ],
   "source": [
    "from sklearn.metrics import accuracy_score,recall_score,roc_auc_score,confusion_matrix\n",
    "print(\"\\naccuracy score:%f\"%(accuracy_score(y_test,y_pred)*100))\n",
    "print(\"recall score:%f\"%(recall_score(y_test,y_pred)*100))\n",
    "print(\"roc score:%f\"%(roc_auc_score(y_test,y_pred)*100))\n",
    "print(confusion_matrix(y_test,y_pred))"
   ]
  },
  {
   "cell_type": "markdown",
   "metadata": {},
   "source": [
    "# Final Accuracy of our Models "
   ]
  },
  {
   "cell_type": "markdown",
   "metadata": {},
   "source": [
    "### Comparing all the prediction models"
   ]
  },
  {
   "cell_type": "code",
   "execution_count": 57,
   "metadata": {},
   "outputs": [
    {
     "data": {
      "text/html": [
       "<div>\n",
       "<style scoped>\n",
       "    .dataframe tbody tr th:only-of-type {\n",
       "        vertical-align: middle;\n",
       "    }\n",
       "\n",
       "    .dataframe tbody tr th {\n",
       "        vertical-align: top;\n",
       "    }\n",
       "\n",
       "    .dataframe thead th {\n",
       "        text-align: right;\n",
       "    }\n",
       "</style>\n",
       "<table border=\"1\" class=\"dataframe\">\n",
       "  <thead>\n",
       "    <tr style=\"text-align: right;\">\n",
       "      <th></th>\n",
       "      <th>Name</th>\n",
       "      <th>Score</th>\n",
       "    </tr>\n",
       "  </thead>\n",
       "  <tbody>\n",
       "    <tr>\n",
       "      <th>0</th>\n",
       "      <td>KNN</td>\n",
       "      <td>0.875000</td>\n",
       "    </tr>\n",
       "    <tr>\n",
       "      <th>1</th>\n",
       "      <td>LR</td>\n",
       "      <td>0.958333</td>\n",
       "    </tr>\n",
       "    <tr>\n",
       "      <th>2</th>\n",
       "      <td>SVC</td>\n",
       "      <td>0.833333</td>\n",
       "    </tr>\n",
       "    <tr>\n",
       "      <th>3</th>\n",
       "      <td>DT</td>\n",
       "      <td>0.750000</td>\n",
       "    </tr>\n",
       "    <tr>\n",
       "      <th>4</th>\n",
       "      <td>RF</td>\n",
       "      <td>0.916667</td>\n",
       "    </tr>\n",
       "  </tbody>\n",
       "</table>\n",
       "</div>"
      ],
      "text/plain": [
       "  Name     Score\n",
       "0  KNN  0.875000\n",
       "1   LR  0.958333\n",
       "2  SVC  0.833333\n",
       "3   DT  0.750000\n",
       "4   RF  0.916667"
      ]
     },
     "execution_count": 57,
     "metadata": {},
     "output_type": "execute_result"
    }
   ],
   "source": [
    "models = []\n",
    "from sklearn.neighbors import KNeighborsClassifier\n",
    "from sklearn.svm import SVC\n",
    "from sklearn.linear_model import LogisticRegression\n",
    "from sklearn.tree import DecisionTreeClassifier\n",
    "from sklearn.naive_bayes import GaussianNB\n",
    "from sklearn.ensemble import RandomForestClassifier\n",
    "from sklearn.ensemble import GradientBoostingClassifier\n",
    "models.append(('KNN', KNeighborsClassifier()))\n",
    "models.append(('LR', LogisticRegression()))\n",
    "models.append(('SVC', SVC()))\n",
    "models.append(('DT', DecisionTreeClassifier()))\n",
    "models.append(('RF', RandomForestClassifier()))\n",
    "\n",
    "names = []\n",
    "scores = []\n",
    "for name, model in models:\n",
    "    model.fit(x_train, y_train)\n",
    "    y_pred = model.predict(x_test)\n",
    "    scores.append(accuracy_score(y_test, y_pred))\n",
    "    names.append(name)\n",
    "tr_split = pd.DataFrame({'Name': names, 'Score': scores})\n",
    "tr_split"
   ]
  },
  {
   "cell_type": "code",
   "execution_count": 58,
   "metadata": {},
   "outputs": [
    {
     "data": {
      "image/png": "[encoded data removed]",
      "text/plain": [
       "<Figure size 432x288 with 1 Axes>"
      ]
     },
     "metadata": {
      "needs_background": "light"
     },
     "output_type": "display_data"
    }
   ],
   "source": [
    "import seaborn as sns\n",
    "axis = sns.barplot(x = 'Name', y = 'Score', data =tr_split )\n",
    "axis.set(xlabel='Classifier Models', ylabel='Accuracy of the Model')\n",
    "for p in axis.patches:\n",
    "    height = p.get_height()\n",
    "    axis.text(p.get_x() + p.get_width()/2, height + 0.01, '{:1.4f}'.format(height), ha=\"center\") \n",
    "    \n",
    "plt.show()"
   ]
  },
  {
   "cell_type": "code",
   "execution_count": 59,
   "metadata": {},
   "outputs": [
    {
     "data": {
      "text/plain": [
       "0.9583333333333334"
      ]
     },
     "execution_count": 59,
     "metadata": {},
     "output_type": "execute_result"
    }
   ],
   "source": [
    "tr_split['Score'].max() "
   ]
  }
 ],
 "metadata": {
  "kernelspec": {
   "display_name": "Python 3 (ipykernel)",
   "language": "python",
   "name": "python3"
  },
  "language_info": {
   "codemirror_mode": {
    "name": "ipython",
    "version": 3
   },
   "file_extension": ".py",
   "mimetype": "text/x-python",
   "name": "python",
   "nbconvert_exporter": "python",
   "pygments_lexer": "ipython3",
   "version": "3.10.2"
  }
 },
 "nbformat": 4,
 "nbformat_minor": 2
}
